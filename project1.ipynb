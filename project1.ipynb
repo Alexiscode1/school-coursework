{
 "cells": [
  {
   "cell_type": "code",
   "execution_count": 2,
   "metadata": {
    "deletable": false,
    "editable": false
   },
   "outputs": [
    {
     "name": "stdout",
     "output_type": "stream",
     "text": [
      "=====================================================================\n",
      "Assignment: Project 1: World Progress\n",
      "OK, version v1.12.5\n",
      "=====================================================================\n",
      "\n"
     ]
    }
   ],
   "source": [
    "# Initialize OK\n",
    "from client.api.notebook import Notebook\n",
    "ok = Notebook('project1.ok')"
   ]
  },
  {
   "cell_type": "markdown",
   "metadata": {},
   "source": [
    "## Project 1: World Progress"
   ]
  },
  {
   "cell_type": "markdown",
   "metadata": {},
   "source": [
    "In this project, you'll explore data from [Gapminder.org](http://gapminder.org), a website dedicated to providing a fact-based view of the world and how it has changed. That site includes several data visualizations and presentations, but also publishes the raw data that we will use in this project to recreate and extend some of their most famous visualizations.\n",
    "\n",
    "The Gapminder website collects data from many sources and compiles them into tables that describe many countries around the world. All of the data they aggregate are published in the [Systema Globalis](https://github.com/open-numbers/ddf--gapminder--systema_globalis/blob/master/README.md). Their goal is \"to compile all public statistics; Social, Economic and Environmental; into a comparable total dataset.\" All data sets in this project are copied directly from the Systema Globalis without any changes.\n",
    "\n",
    "This project is dedicated to [Hans Rosling](https://en.wikipedia.org/wiki/Hans_Rosling) (1948-2017), who championed the use of data to understand and prioritize global development challenges."
   ]
  },
  {
   "cell_type": "markdown",
   "metadata": {},
   "source": [
    "### Logistics\n",
    "\n",
    "**Deadline.** This project is due at 11:59pm on Friday 10/4. Projects will be accepted up to 2 days (48 hours) late; a project submitted less than 24 hours after the deadline will receive 2/3 credit, a project submitted between 24 and 48 hours after the deadline will receive 1/3 credit, and a project submitted 48 hours or more after the deadline will receive no credit. It's **much** better to be early than late, so start working now.\n",
    "\n",
    "**Checkpoint.** For full credit, you must also complete the first 8 questions, pass all public autograder tests, and submit to okpy by 11:59pm on Friday 9/27. After you've submitted the checkpoint, you may still change your answers before the project deadline - only your final submission will be graded for correctness. You will have some lab time to work on these questions, but we recommend that you start the project before lab and leave time to finish the checkpoint afterward.\n",
    "\n",
    "**Partners.** You may work with one other partner; your partner must be from your assigned lab section. Only one of you is required to submit the project. On [okpy.org](http://okpy.org), the person who submits should also designate their partner so that both of you receive credit.\n",
    "\n",
    "**Rules.** Don't share your code with anybody but your partner. You are welcome to discuss questions with other students, but don't share the answers. The experience of solving the problems in this project will prepare you for exams (and life). If someone asks you for the answer, resist! Instead, you can demonstrate how you would solve a similar problem.\n",
    "\n",
    "**Support.** You are not alone! Come to office hours, post on Piazza, and talk to your classmates. If you want to ask about the details of your solution to a problem, make a private Piazza post and the staff will respond. If you're ever feeling overwhelmed or don't know how to make progress, email your TA or tutor for help. You can find contact information for the staff on the [course website](http://data8.org/fa19/staff.html).\n",
    "\n",
    "**Tests.** The tests that are given are **not comprehensive** and passing the tests for a question **does not** mean that you answered the question correctly. Tests usually only check that your table has the correct column labels. However, more tests will be applied to verify the correctness of your submission in order to assign your final score, so be careful and check your work! You might want to create your own checks along the way to see if your answers make sense. Additionally, before you submit, make sure that none of your cells take a very long time to run (several minutes).\n",
    "\n",
    "**Free Response Questions:** Make sure that you put the answers to the written questions in the indicated cell we provide. Check to make sure that you have a [Gradescope](http://gradescope.com) account, which is where the scores to the free response questions will be posted. If you do not, make sure to reach out to your assigned (u)GSI.\n",
    "\n",
    "**Advice.** Develop your answers incrementally. To perform a complicated table manipulation, break it up into steps, perform each step on a different line, give a new name to each result, and check that each intermediate result is what you expect. You can add any additional names or functions you want to the provided cells. Make sure that you are using distinct and meaningful variable names throughout the notebook. Along that line, **DO NOT** reuse the variable names that we use when we grade your answers. For example, in Question 1 of the Global Poverty section, we ask you to assign an answer to `latest`. Do not reassign the variable name `latest` to anything else in your notebook, otherwise there is the chance that our tests grade against what `latest` was reassigned to.\n",
    "\n",
    "You **never** have to use just one line in this project or any others. Use intermediate variables and multiple lines as much as you would like!  \n",
    "\n",
    "To get started, load `datascience`, `numpy`, `plots`, and `ok`."
   ]
  },
  {
   "cell_type": "code",
   "execution_count": 3,
   "metadata": {},
   "outputs": [
    {
     "name": "stdout",
     "output_type": "stream",
     "text": [
      "=====================================================================\n",
      "Assignment: Project 1: World Progress\n",
      "OK, version v1.12.5\n",
      "=====================================================================\n",
      "\n"
     ]
    }
   ],
   "source": [
    "from datascience import *\n",
    "import numpy as np\n",
    "\n",
    "%matplotlib inline\n",
    "import matplotlib.pyplot as plots\n",
    "plots.style.use('fivethirtyeight')\n",
    "\n",
    "from client.api.notebook import Notebook\n",
    "ok = Notebook('project1.ok')"
   ]
  },
  {
   "cell_type": "markdown",
   "metadata": {},
   "source": [
    "Before continuing the assignment, select \"Save and Checkpoint\" in the File menu and then execute the submit cell below. The result will contain a link that you can use to check that your assignment has been submitted successfully. If you submit more than once before the deadline, we will only grade your final submission. If you mistakenly submit the wrong one, you can head to okpy.org and flag the correct version. There will be another submit cell at the end of the assignment when you finish!"
   ]
  },
  {
   "cell_type": "code",
   "execution_count": 4,
   "metadata": {},
   "outputs": [
    {
     "data": {
      "application/javascript": [
       "IPython.notebook.save_checkpoint();"
      ],
      "text/plain": [
       "<IPython.core.display.Javascript object>"
      ]
     },
     "metadata": {},
     "output_type": "display_data"
    },
    {
     "data": {
      "application/javascript": [
       "IPython.notebook.save_notebook();"
      ],
      "text/plain": [
       "<IPython.core.display.Javascript object>"
      ]
     },
     "metadata": {},
     "output_type": "display_data"
    },
    {
     "name": "stdout",
     "output_type": "stream",
     "text": [
      "Saving notebook... Saved 'project1.ipynb'.\n",
      "Submit... 100% complete\n",
      "Submission successful for user: yli629@berkeley.edu\n",
      "URL: https://okpy.org/cal/data8/fa19/project1/submissions/K8rxNl\n",
      "\n"
     ]
    }
   ],
   "source": [
    "_=ok.submit()"
   ]
  },
  {
   "cell_type": "markdown",
   "metadata": {
    "deletable": false,
    "editable": false
   },
   "source": [
    "## 1. Global Population Growth\n"
   ]
  },
  {
   "cell_type": "markdown",
   "metadata": {
    "deletable": false,
    "editable": false
   },
   "source": [
    "The global population of humans reached 1 billion around 1800, 3 billion around 1960, and 7 billion around 2011. The potential impact of exponential population growth has concerned scientists, economists, and politicians alike.\n",
    "\n",
    "The UN Population Division estimates that the world population will likely continue to grow throughout the 21st century, but at a slower rate, perhaps reaching 11 billion by 2100. However, the UN does not rule out scenarios of more extreme growth.\n",
    "\n",
    "<a href=\"http://www.pewresearch.org/fact-tank/2015/06/08/scientists-more-worried-than-public-about-worlds-growing-population/ft_15-06-04_popcount/\"> \n",
    " <img src=\"pew_population_projection.png\"/> \n",
    "</a>\n",
    "\n",
    "In this section, we will examine some of the factors that influence population growth and how they are changing around the world.\n",
    "\n",
    "The first table we will consider is the total population of each country over time. Run the cell below."
   ]
  },
  {
   "cell_type": "code",
   "execution_count": 5,
   "metadata": {
    "deletable": false,
    "editable": false
   },
   "outputs": [
    {
     "data": {
      "text/html": [
       "<table border=\"1\" class=\"dataframe\">\n",
       "    <thead>\n",
       "        <tr>\n",
       "            <th>geo</th> <th>time</th> <th>population_total</th>\n",
       "        </tr>\n",
       "    </thead>\n",
       "    <tbody>\n",
       "        <tr>\n",
       "            <td>abw </td> <td>1800</td> <td>19286           </td>\n",
       "        </tr>\n",
       "        <tr>\n",
       "            <td>abw </td> <td>1801</td> <td>19286           </td>\n",
       "        </tr>\n",
       "        <tr>\n",
       "            <td>abw </td> <td>1802</td> <td>19286           </td>\n",
       "        </tr>\n",
       "    </tbody>\n",
       "</table>\n",
       "<p>... (87792 rows omitted)</p>"
      ],
      "text/plain": [
       "<IPython.core.display.HTML object>"
      ]
     },
     "metadata": {},
     "output_type": "display_data"
    }
   ],
   "source": [
    "population = Table.read_table('population.csv')\n",
    "population.show(3)"
   ]
  },
  {
   "cell_type": "markdown",
   "metadata": {},
   "source": [
    "**Note:** The population csv file can also be found [here](https://github.com/open-numbers/ddf--gapminder--systema_globalis/raw/master/ddf--datapoints--population_total--by--geo--time.csv). The data for this project was downloaded in February 2017."
   ]
  },
  {
   "cell_type": "markdown",
   "metadata": {
    "deletable": false,
    "editable": false
   },
   "source": [
    "### Bangladesh\n",
    "\n",
    "In the `population` table, the `geo` column contains three-letter codes established by the [International Organization for Standardization](https://en.wikipedia.org/wiki/International_Organization_for_Standardization) (ISO) in the [Alpha-3](https://en.wikipedia.org/wiki/ISO_3166-1_alpha-3#Current_codes) standard. We will begin by taking a close look at Bangladesh. Inspect the standard to find the 3-letter code for Bangladesh."
   ]
  },
  {
   "cell_type": "markdown",
   "metadata": {
    "deletable": false,
    "editable": false
   },
   "source": [
    "**Question 1.** Create a table called `b_pop` that has two columns labeled `time` and `population_total`. The first column should contain the years from 1970 through 2015 (including both 1970 and 2015) and the second should contain the population of Bangladesh in each of those years.\n",
    "\n",
    "<!--\n",
    "BEGIN QUESTION\n",
    "name: q1_1\n",
    "-->"
   ]
  },
  {
   "cell_type": "code",
   "execution_count": 6,
   "metadata": {},
   "outputs": [
    {
     "data": {
      "text/html": [
       "<table border=\"1\" class=\"dataframe\">\n",
       "    <thead>\n",
       "        <tr>\n",
       "            <th>geo</th> <th>time</th> <th>population_total</th>\n",
       "        </tr>\n",
       "    </thead>\n",
       "    <tbody>\n",
       "        <tr>\n",
       "            <td>bgd </td> <td>1970</td> <td>65048701        </td>\n",
       "        </tr>\n",
       "        <tr>\n",
       "            <td>bgd </td> <td>1971</td> <td>66417450        </td>\n",
       "        </tr>\n",
       "        <tr>\n",
       "            <td>bgd </td> <td>1972</td> <td>67578486        </td>\n",
       "        </tr>\n",
       "        <tr>\n",
       "            <td>bgd </td> <td>1973</td> <td>68658472        </td>\n",
       "        </tr>\n",
       "        <tr>\n",
       "            <td>bgd </td> <td>1974</td> <td>69837960        </td>\n",
       "        </tr>\n",
       "        <tr>\n",
       "            <td>bgd </td> <td>1975</td> <td>71247153        </td>\n",
       "        </tr>\n",
       "        <tr>\n",
       "            <td>bgd </td> <td>1976</td> <td>72930206        </td>\n",
       "        </tr>\n",
       "        <tr>\n",
       "            <td>bgd </td> <td>1977</td> <td>74848466        </td>\n",
       "        </tr>\n",
       "        <tr>\n",
       "            <td>bgd </td> <td>1978</td> <td>76948378        </td>\n",
       "        </tr>\n",
       "        <tr>\n",
       "            <td>bgd </td> <td>1979</td> <td>79141947        </td>\n",
       "        </tr>\n",
       "    </tbody>\n",
       "</table>\n",
       "<p>... (36 rows omitted)</p>"
      ],
      "text/plain": [
       "geo  | time | population_total\n",
       "bgd  | 1970 | 65048701\n",
       "bgd  | 1971 | 66417450\n",
       "bgd  | 1972 | 67578486\n",
       "bgd  | 1973 | 68658472\n",
       "bgd  | 1974 | 69837960\n",
       "bgd  | 1975 | 71247153\n",
       "bgd  | 1976 | 72930206\n",
       "bgd  | 1977 | 74848466\n",
       "bgd  | 1978 | 76948378\n",
       "bgd  | 1979 | 79141947\n",
       "... (36 rows omitted)"
      ]
     },
     "execution_count": 6,
     "metadata": {},
     "output_type": "execute_result"
    }
   ],
   "source": [
    "table=population.where('time',are.between(1970, 2016)).where('geo',are.equal_to('bgd'))\n",
    "table"
   ]
  },
  {
   "cell_type": "code",
   "execution_count": 7,
   "metadata": {
    "deletable": false
   },
   "outputs": [
    {
     "data": {
      "text/html": [
       "<table border=\"1\" class=\"dataframe\">\n",
       "    <thead>\n",
       "        <tr>\n",
       "            <th>time</th> <th>population_total</th>\n",
       "        </tr>\n",
       "    </thead>\n",
       "    <tbody>\n",
       "        <tr>\n",
       "            <td>1970</td> <td>65048701        </td>\n",
       "        </tr>\n",
       "        <tr>\n",
       "            <td>1971</td> <td>66417450        </td>\n",
       "        </tr>\n",
       "        <tr>\n",
       "            <td>1972</td> <td>67578486        </td>\n",
       "        </tr>\n",
       "        <tr>\n",
       "            <td>1973</td> <td>68658472        </td>\n",
       "        </tr>\n",
       "        <tr>\n",
       "            <td>1974</td> <td>69837960        </td>\n",
       "        </tr>\n",
       "        <tr>\n",
       "            <td>1975</td> <td>71247153        </td>\n",
       "        </tr>\n",
       "        <tr>\n",
       "            <td>1976</td> <td>72930206        </td>\n",
       "        </tr>\n",
       "        <tr>\n",
       "            <td>1977</td> <td>74848466        </td>\n",
       "        </tr>\n",
       "        <tr>\n",
       "            <td>1978</td> <td>76948378        </td>\n",
       "        </tr>\n",
       "        <tr>\n",
       "            <td>1979</td> <td>79141947        </td>\n",
       "        </tr>\n",
       "    </tbody>\n",
       "</table>\n",
       "<p>... (36 rows omitted)</p>"
      ],
      "text/plain": [
       "time | population_total\n",
       "1970 | 65048701\n",
       "1971 | 66417450\n",
       "1972 | 67578486\n",
       "1973 | 68658472\n",
       "1974 | 69837960\n",
       "1975 | 71247153\n",
       "1976 | 72930206\n",
       "1977 | 74848466\n",
       "1978 | 76948378\n",
       "1979 | 79141947\n",
       "... (36 rows omitted)"
      ]
     },
     "execution_count": 7,
     "metadata": {},
     "output_type": "execute_result"
    }
   ],
   "source": [
    "b_pop =Table().with_columns('time',table.column('time'),'population_total',table.column('population_total'))\n",
    "b_pop"
   ]
  },
  {
   "cell_type": "code",
   "execution_count": 8,
   "metadata": {
    "deletable": false,
    "editable": false
   },
   "outputs": [
    {
     "name": "stdout",
     "output_type": "stream",
     "text": [
      "~~~~~~~~~~~~~~~~~~~~~~~~~~~~~~~~~~~~~~~~~~~~~~~~~~~~~~~~~~~~~~~~~~~~~\n",
      "Running tests\n",
      "\n",
      "---------------------------------------------------------------------\n",
      "Test summary\n",
      "    Passed: 2\n",
      "    Failed: 0\n",
      "[ooooooooook] 100.0% passed\n",
      "\n"
     ]
    }
   ],
   "source": [
    "ok.grade(\"q1_1\");"
   ]
  },
  {
   "cell_type": "markdown",
   "metadata": {
    "deletable": false,
    "editable": false
   },
   "source": [
    "Run the following cell to create a table called `b_five` that has the population of Bangladesh every five years. At a glance, it appears that the population of Bangladesh has been growing quickly indeed!"
   ]
  },
  {
   "cell_type": "code",
   "execution_count": 9,
   "metadata": {
    "deletable": false,
    "editable": false
   },
   "outputs": [
    {
     "data": {
      "text/html": [
       "<table border=\"1\" class=\"dataframe\">\n",
       "    <thead>\n",
       "        <tr>\n",
       "            <th>time</th> <th>population_total</th>\n",
       "        </tr>\n",
       "    </thead>\n",
       "    <tbody>\n",
       "        <tr>\n",
       "            <td>1970</td> <td>65,048,701      </td>\n",
       "        </tr>\n",
       "        <tr>\n",
       "            <td>1975</td> <td>71,247,153      </td>\n",
       "        </tr>\n",
       "        <tr>\n",
       "            <td>1980</td> <td>81,364,176      </td>\n",
       "        </tr>\n",
       "        <tr>\n",
       "            <td>1985</td> <td>93,015,182      </td>\n",
       "        </tr>\n",
       "        <tr>\n",
       "            <td>1990</td> <td>105,983,136     </td>\n",
       "        </tr>\n",
       "        <tr>\n",
       "            <td>1995</td> <td>118,427,768     </td>\n",
       "        </tr>\n",
       "        <tr>\n",
       "            <td>2000</td> <td>131,280,739     </td>\n",
       "        </tr>\n",
       "        <tr>\n",
       "            <td>2005</td> <td>142,929,979     </td>\n",
       "        </tr>\n",
       "        <tr>\n",
       "            <td>2010</td> <td>151,616,777     </td>\n",
       "        </tr>\n",
       "        <tr>\n",
       "            <td>2015</td> <td>160,995,642     </td>\n",
       "        </tr>\n",
       "    </tbody>\n",
       "</table>"
      ],
      "text/plain": [
       "time | population_total\n",
       "1970 | 65,048,701\n",
       "1975 | 71,247,153\n",
       "1980 | 81,364,176\n",
       "1985 | 93,015,182\n",
       "1990 | 105,983,136\n",
       "1995 | 118,427,768\n",
       "2000 | 131,280,739\n",
       "2005 | 142,929,979\n",
       "2010 | 151,616,777\n",
       "2015 | 160,995,642"
      ]
     },
     "execution_count": 9,
     "metadata": {},
     "output_type": "execute_result"
    }
   ],
   "source": [
    "b_pop.set_format('population_total', NumberFormatter)\n",
    "\n",
    "fives = np.arange(1970, 2016, 5) # 1970, 1975, 1980, ...\n",
    "b_five = b_pop.sort('time').where('time', are.contained_in(fives))\n",
    "b_five"
   ]
  },
  {
   "cell_type": "markdown",
   "metadata": {
    "deletable": false,
    "editable": false
   },
   "source": [
    "**Question 2.** Assign `initial` to an array that contains the population for every five year interval from 1970 to 2010. Then, assign `changed` to an array that contains the population for every five year interval from 1975 to 2015. You should use the `b_five` table to create both arrays, first filtering the table to only contain the relevant years.\n",
    "\n",
    "We have provided the code below that uses  `initial` and `changed` in order to add a column to `b_five` called `annual_growth`. Don't worry about the calculation of the growth rates; run the test below to test your solution.\n",
    "\n",
    "If you are interested in how we came up with the formula for growth rates, consult the [growth rates](https://www.inferentialthinking.com/chapters/03/2/1/growth) section of the textbook.\n",
    "\n",
    "<!--\n",
    "BEGIN QUESTION\n",
    "name: q1_2\n",
    "-->"
   ]
  },
  {
   "cell_type": "code",
   "execution_count": 10,
   "metadata": {
    "deletable": false
   },
   "outputs": [
    {
     "data": {
      "text/html": [
       "<table border=\"1\" class=\"dataframe\">\n",
       "    <thead>\n",
       "        <tr>\n",
       "            <th>time</th> <th>population_total</th> <th>annual_growth</th>\n",
       "        </tr>\n",
       "    </thead>\n",
       "    <tbody>\n",
       "        <tr>\n",
       "            <td>1970</td> <td>65,048,701      </td> <td>1.84%        </td>\n",
       "        </tr>\n",
       "        <tr>\n",
       "            <td>1975</td> <td>71,247,153      </td> <td>2.69%        </td>\n",
       "        </tr>\n",
       "        <tr>\n",
       "            <td>1980</td> <td>81,364,176      </td> <td>2.71%        </td>\n",
       "        </tr>\n",
       "        <tr>\n",
       "            <td>1985</td> <td>93,015,182      </td> <td>2.64%        </td>\n",
       "        </tr>\n",
       "        <tr>\n",
       "            <td>1990</td> <td>105,983,136     </td> <td>2.25%        </td>\n",
       "        </tr>\n",
       "        <tr>\n",
       "            <td>1995</td> <td>118,427,768     </td> <td>2.08%        </td>\n",
       "        </tr>\n",
       "        <tr>\n",
       "            <td>2000</td> <td>131,280,739     </td> <td>1.71%        </td>\n",
       "        </tr>\n",
       "        <tr>\n",
       "            <td>2005</td> <td>142,929,979     </td> <td>1.19%        </td>\n",
       "        </tr>\n",
       "        <tr>\n",
       "            <td>2010</td> <td>151,616,777     </td> <td>1.21%        </td>\n",
       "        </tr>\n",
       "    </tbody>\n",
       "</table>"
      ],
      "text/plain": [
       "time | population_total | annual_growth\n",
       "1970 | 65,048,701       | 1.84%\n",
       "1975 | 71,247,153       | 2.69%\n",
       "1980 | 81,364,176       | 2.71%\n",
       "1985 | 93,015,182       | 2.64%\n",
       "1990 | 105,983,136      | 2.25%\n",
       "1995 | 118,427,768      | 2.08%\n",
       "2000 | 131,280,739      | 1.71%\n",
       "2005 | 142,929,979      | 1.19%\n",
       "2010 | 151,616,777      | 1.21%"
      ]
     },
     "execution_count": 10,
     "metadata": {},
     "output_type": "execute_result"
    }
   ],
   "source": [
    "initial = b_five.where('time',are.between(1970,2011)).column('population_total')\n",
    "changed = b_five.where('time',are.between(1975,2016)).column('population_total')\n",
    "\n",
    "b_1970_through_2010 = b_five.where('time', are.below_or_equal_to(2010)) \n",
    "b_five_growth = b_1970_through_2010.with_column('annual_growth', (changed/initial)**0.2-1)\n",
    "b_five_growth.set_format('annual_growth', PercentFormatter)"
   ]
  },
  {
   "cell_type": "code",
   "execution_count": 11,
   "metadata": {
    "deletable": false,
    "editable": false
   },
   "outputs": [
    {
     "name": "stdout",
     "output_type": "stream",
     "text": [
      "~~~~~~~~~~~~~~~~~~~~~~~~~~~~~~~~~~~~~~~~~~~~~~~~~~~~~~~~~~~~~~~~~~~~~\n",
      "Running tests\n",
      "\n",
      "---------------------------------------------------------------------\n",
      "Test summary\n",
      "    Passed: 2\n",
      "    Failed: 0\n",
      "[ooooooooook] 100.0% passed\n",
      "\n"
     ]
    }
   ],
   "source": [
    "ok.grade(\"q1_2\");"
   ]
  },
  {
   "cell_type": "markdown",
   "metadata": {
    "deletable": false,
    "editable": false
   },
   "source": [
    "While the population has grown every five years since 1970, the annual growth rate decreased dramatically from 1985 to 2005. Let's look at some other information in order to develop a possible explanation. Run the next cell to load three additional tables of measurements about countries over time."
   ]
  },
  {
   "cell_type": "code",
   "execution_count": 12,
   "metadata": {
    "deletable": false,
    "editable": false
   },
   "outputs": [],
   "source": [
    "life_expectancy = Table.read_table('life_expectancy.csv')\n",
    "child_mortality = Table.read_table('child_mortality.csv').relabel(2, 'child_mortality_under_5_per_1000_born')\n",
    "fertility = Table.read_table('fertility.csv')"
   ]
  },
  {
   "cell_type": "markdown",
   "metadata": {
    "deletable": false,
    "editable": false
   },
   "source": [
    "The `life_expectancy` table contains a statistic that is often used to measure how long people live, called *life expectancy at birth*. This number, for a country in a given year, [does not measure how long babies born in that year are expected to live](http://blogs.worldbank.org/opendata/what-does-life-expectancy-birth-really-mean). Instead, it measures how long someone would live, on average, if the *mortality conditions* in that year persisted throughout their lifetime. These \"mortality conditions\" describe what fraction of people at each age survived the year. So, it is a way of measuring the proportion of people that are staying alive, aggregated over different age groups in the population."
   ]
  },
  {
   "cell_type": "markdown",
   "metadata": {},
   "source": [
    "Run the following cells below to see `life_expectancy`, `child_mortality`, and `fertility`. Refer back to these tables as they will be helpful for answering further questions!"
   ]
  },
  {
   "cell_type": "code",
   "execution_count": 13,
   "metadata": {},
   "outputs": [
    {
     "data": {
      "text/html": [
       "<table border=\"1\" class=\"dataframe\">\n",
       "    <thead>\n",
       "        <tr>\n",
       "            <th>geo</th> <th>time</th> <th>life_expectancy_years</th>\n",
       "        </tr>\n",
       "    </thead>\n",
       "    <tbody>\n",
       "        <tr>\n",
       "            <td>afg </td> <td>1800</td> <td>28.21                </td>\n",
       "        </tr>\n",
       "        <tr>\n",
       "            <td>afg </td> <td>1801</td> <td>28.2                 </td>\n",
       "        </tr>\n",
       "        <tr>\n",
       "            <td>afg </td> <td>1802</td> <td>28.19                </td>\n",
       "        </tr>\n",
       "        <tr>\n",
       "            <td>afg </td> <td>1803</td> <td>28.18                </td>\n",
       "        </tr>\n",
       "        <tr>\n",
       "            <td>afg </td> <td>1804</td> <td>28.17                </td>\n",
       "        </tr>\n",
       "        <tr>\n",
       "            <td>afg </td> <td>1805</td> <td>28.16                </td>\n",
       "        </tr>\n",
       "        <tr>\n",
       "            <td>afg </td> <td>1806</td> <td>28.15                </td>\n",
       "        </tr>\n",
       "        <tr>\n",
       "            <td>afg </td> <td>1807</td> <td>28.14                </td>\n",
       "        </tr>\n",
       "        <tr>\n",
       "            <td>afg </td> <td>1808</td> <td>28.13                </td>\n",
       "        </tr>\n",
       "        <tr>\n",
       "            <td>afg </td> <td>1809</td> <td>28.12                </td>\n",
       "        </tr>\n",
       "    </tbody>\n",
       "</table>\n",
       "<p>... (43847 rows omitted)</p>"
      ],
      "text/plain": [
       "geo  | time | life_expectancy_years\n",
       "afg  | 1800 | 28.21\n",
       "afg  | 1801 | 28.2\n",
       "afg  | 1802 | 28.19\n",
       "afg  | 1803 | 28.18\n",
       "afg  | 1804 | 28.17\n",
       "afg  | 1805 | 28.16\n",
       "afg  | 1806 | 28.15\n",
       "afg  | 1807 | 28.14\n",
       "afg  | 1808 | 28.13\n",
       "afg  | 1809 | 28.12\n",
       "... (43847 rows omitted)"
      ]
     },
     "execution_count": 13,
     "metadata": {},
     "output_type": "execute_result"
    }
   ],
   "source": [
    "life_expectancy"
   ]
  },
  {
   "cell_type": "code",
   "execution_count": 14,
   "metadata": {},
   "outputs": [
    {
     "data": {
      "text/html": [
       "<table border=\"1\" class=\"dataframe\">\n",
       "    <thead>\n",
       "        <tr>\n",
       "            <th>geo</th> <th>time</th> <th>child_mortality_under_5_per_1000_born</th>\n",
       "        </tr>\n",
       "    </thead>\n",
       "    <tbody>\n",
       "        <tr>\n",
       "            <td>afg </td> <td>1800</td> <td>468.6                                </td>\n",
       "        </tr>\n",
       "        <tr>\n",
       "            <td>afg </td> <td>1801</td> <td>468.6                                </td>\n",
       "        </tr>\n",
       "        <tr>\n",
       "            <td>afg </td> <td>1802</td> <td>468.6                                </td>\n",
       "        </tr>\n",
       "        <tr>\n",
       "            <td>afg </td> <td>1803</td> <td>468.6                                </td>\n",
       "        </tr>\n",
       "        <tr>\n",
       "            <td>afg </td> <td>1804</td> <td>468.6                                </td>\n",
       "        </tr>\n",
       "        <tr>\n",
       "            <td>afg </td> <td>1805</td> <td>468.6                                </td>\n",
       "        </tr>\n",
       "        <tr>\n",
       "            <td>afg </td> <td>1806</td> <td>470                                  </td>\n",
       "        </tr>\n",
       "        <tr>\n",
       "            <td>afg </td> <td>1807</td> <td>470                                  </td>\n",
       "        </tr>\n",
       "        <tr>\n",
       "            <td>afg </td> <td>1808</td> <td>470                                  </td>\n",
       "        </tr>\n",
       "        <tr>\n",
       "            <td>afg </td> <td>1809</td> <td>470                                  </td>\n",
       "        </tr>\n",
       "    </tbody>\n",
       "</table>\n",
       "<p>... (40746 rows omitted)</p>"
      ],
      "text/plain": [
       "geo  | time | child_mortality_under_5_per_1000_born\n",
       "afg  | 1800 | 468.6\n",
       "afg  | 1801 | 468.6\n",
       "afg  | 1802 | 468.6\n",
       "afg  | 1803 | 468.6\n",
       "afg  | 1804 | 468.6\n",
       "afg  | 1805 | 468.6\n",
       "afg  | 1806 | 470\n",
       "afg  | 1807 | 470\n",
       "afg  | 1808 | 470\n",
       "afg  | 1809 | 470\n",
       "... (40746 rows omitted)"
      ]
     },
     "execution_count": 14,
     "metadata": {},
     "output_type": "execute_result"
    }
   ],
   "source": [
    "child_mortality"
   ]
  },
  {
   "cell_type": "code",
   "execution_count": 15,
   "metadata": {},
   "outputs": [
    {
     "data": {
      "text/html": [
       "<table border=\"1\" class=\"dataframe\">\n",
       "    <thead>\n",
       "        <tr>\n",
       "            <th>geo</th> <th>time</th> <th>children_per_woman_total_fertility</th>\n",
       "        </tr>\n",
       "    </thead>\n",
       "    <tbody>\n",
       "        <tr>\n",
       "            <td>afg </td> <td>1800</td> <td>7                                 </td>\n",
       "        </tr>\n",
       "        <tr>\n",
       "            <td>afg </td> <td>1801</td> <td>7                                 </td>\n",
       "        </tr>\n",
       "        <tr>\n",
       "            <td>afg </td> <td>1802</td> <td>7                                 </td>\n",
       "        </tr>\n",
       "        <tr>\n",
       "            <td>afg </td> <td>1803</td> <td>7                                 </td>\n",
       "        </tr>\n",
       "        <tr>\n",
       "            <td>afg </td> <td>1804</td> <td>7                                 </td>\n",
       "        </tr>\n",
       "        <tr>\n",
       "            <td>afg </td> <td>1805</td> <td>7                                 </td>\n",
       "        </tr>\n",
       "        <tr>\n",
       "            <td>afg </td> <td>1806</td> <td>7                                 </td>\n",
       "        </tr>\n",
       "        <tr>\n",
       "            <td>afg </td> <td>1807</td> <td>7                                 </td>\n",
       "        </tr>\n",
       "        <tr>\n",
       "            <td>afg </td> <td>1808</td> <td>7                                 </td>\n",
       "        </tr>\n",
       "        <tr>\n",
       "            <td>afg </td> <td>1809</td> <td>7                                 </td>\n",
       "        </tr>\n",
       "    </tbody>\n",
       "</table>\n",
       "<p>... (43402 rows omitted)</p>"
      ],
      "text/plain": [
       "geo  | time | children_per_woman_total_fertility\n",
       "afg  | 1800 | 7\n",
       "afg  | 1801 | 7\n",
       "afg  | 1802 | 7\n",
       "afg  | 1803 | 7\n",
       "afg  | 1804 | 7\n",
       "afg  | 1805 | 7\n",
       "afg  | 1806 | 7\n",
       "afg  | 1807 | 7\n",
       "afg  | 1808 | 7\n",
       "afg  | 1809 | 7\n",
       "... (43402 rows omitted)"
      ]
     },
     "execution_count": 15,
     "metadata": {},
     "output_type": "execute_result"
    }
   ],
   "source": [
    "fertility"
   ]
  },
  {
   "cell_type": "markdown",
   "metadata": {
    "deletable": false,
    "editable": false
   },
   "source": [
    "**Question 3.** Perhaps population is growing more slowly because people aren't living as long. Use the `life_expectancy` table to draw a line graph with the years 1970 and later on the horizontal axis that shows how the *life expectancy at birth* has changed in Bangladesh.\n",
    "\n",
    "<!--\n",
    "BEGIN QUESTION\n",
    "name: q1_3\n",
    "manual: true\n",
    "-->\n",
    "<!-- EXPORT TO PDF -->"
   ]
  },
  {
   "cell_type": "code",
   "execution_count": 16,
   "metadata": {
    "deletable": false,
    "export_pdf": true,
    "manual_grade": true,
    "manual_problem_id": "global_pop_3"
   },
   "outputs": [
    {
     "data": {
      "image/png": "[encoded data removed]",
      "text/plain": [
       "<Figure size 432x288 with 1 Axes>"
      ]
     },
     "metadata": {},
     "output_type": "display_data"
    }
   ],
   "source": [
    "life_expectancy.where('geo','bgd').where('time',are.above_or_equal_to(1970)).plot('time','life_expectancy_years')"
   ]
  },
  {
   "cell_type": "markdown",
   "metadata": {
    "deletable": false,
    "editable": false
   },
   "source": [
    "**Question 4.** Assuming everything else stays the same, do the trends in life expectancy in the graph above directly explain why the population growth rate decreased from 1985 to 2010 in Bangladesh? Why or why not? \n",
    "\n",
    "Hint: What happened in Bangladesh in 1991, and does that event explain the overall change in population growth rate?\n",
    "\n",
    "<!--\n",
    "BEGIN QUESTION\n",
    "name: q1_4\n",
    "manual: true\n",
    "-->\n",
    "<!-- EXPORT TO PDF -->"
   ]
  },
  {
   "cell_type": "markdown",
   "metadata": {
    "collapsed": true,
    "deletable": false,
    "export_pdf": true,
    "manual_grade": true,
    "manual_problem_id": "global_pop_4"
   },
   "source": [
    "No, because we can see from the line graph that the life expectancy overall is increasing. People's life is getting longer and the death rate should reduce. If everything else stays the same, the population growth rate should increase.From the graph, we can see there is a drop during 1991, that's because the 1991 cyclone caused many people lose their life. That event doesn't explain the overall change in population growth rate, because that's just one event and would not cause long lasting influence."
   ]
  },
  {
   "cell_type": "markdown",
   "metadata": {
    "deletable": false,
    "editable": false
   },
   "source": [
    "The `fertility` table contains a statistic that is often used to measure how many babies are being born, the *total fertility rate*. This number describes the [number of children a woman would have in her lifetime](https://www.measureevaluation.org/prh/rh_indicators/specific/fertility/total-fertility-rate), on average, if the current rates of birth by age of the mother persisted throughout her child bearing years, assuming she survived through age 49. "
   ]
  },
  {
   "cell_type": "markdown",
   "metadata": {
    "deletable": false,
    "editable": false
   },
   "source": [
    "**Question 5.** Write a function `fertility_over_time` that takes the Alpha-3 code of a `country` and a `start` year. It returns a two-column table with labels `Year` and `Children per woman` that can be used to generate a line chart of the country's fertility rate each year, starting at the `start` year. The plot should include the `start` year and all later years that appear in the `fertility` table. \n",
    "\n",
    "Then, in the next cell, call your `fertility_over_time` function on the Alpha-3 code for Bangladesh and the year 1970 in order to plot how Bangladesh's fertility rate has changed since 1970. Note that the function `fertility_over_time` should not return the plot itself. **The expression that draws the line plot is provided for you; please don't change it.**\n",
    "\n",
    "<!--\n",
    "BEGIN QUESTION\n",
    "name: q1_5\n",
    "-->"
   ]
  },
  {
   "cell_type": "code",
   "execution_count": 17,
   "metadata": {
    "deletable": false
   },
   "outputs": [
    {
     "data": {
      "image/png": "[encoded data removed]",
      "text/plain": [
       "<Figure size 432x288 with 1 Axes>"
      ]
     },
     "metadata": {},
     "output_type": "display_data"
    }
   ],
   "source": [
    "def fertility_over_time(country, start):\n",
    "    \"\"\"Create a two-column table that describes a country's total fertility rate each year.\"\"\"\n",
    "    country_fertility =fertility.where('geo',are.equal_to(country))\n",
    "    country_fertility_after_start =country_fertility.where('time',are.above_or_equal_to(start))\n",
    "    cleaned_table =Table().with_columns('Year',country_fertility_after_start.column('time'),\n",
    "                                        'Children per woman',country_fertility_after_start.column('children_per_woman_total_fertility')\n",
    "                                       )\n",
    "    return cleaned_table\n",
    "bangladesh_code ='bgd'\n",
    "fertility_over_time(bangladesh_code, 1970).plot(0, 1) # You should *not* change this line."
   ]
  },
  {
   "cell_type": "code",
   "execution_count": 18,
   "metadata": {
    "deletable": false,
    "editable": false
   },
   "outputs": [
    {
     "name": "stdout",
     "output_type": "stream",
     "text": [
      "~~~~~~~~~~~~~~~~~~~~~~~~~~~~~~~~~~~~~~~~~~~~~~~~~~~~~~~~~~~~~~~~~~~~~\n",
      "Running tests\n",
      "\n",
      "---------------------------------------------------------------------\n",
      "Test summary\n",
      "    Passed: 3\n",
      "    Failed: 0\n",
      "[ooooooooook] 100.0% passed\n",
      "\n"
     ]
    }
   ],
   "source": [
    "ok.grade(\"q1_5\");"
   ]
  },
  {
   "cell_type": "markdown",
   "metadata": {
    "deletable": false,
    "editable": false
   },
   "source": [
    "**Question 6.** Assuming everything else is constant, do the trends in fertility in the graph above help directly explain why the population growth rate decreased from 1985 to 2010 in Bangladesh? Why or why not?\n",
    "\n",
    "<!--\n",
    "BEGIN QUESTION\n",
    "name: q1_6\n",
    "manual: true\n",
    "-->\n",
    "<!-- EXPORT TO PDF -->"
   ]
  },
  {
   "cell_type": "markdown",
   "metadata": {
    "deletable": false,
    "export_pdf": true,
    "manual_grade": true,
    "manual_problem_id": "global_pop_6"
   },
   "source": [
    "Yes. We can seee from the above graph that the number of children per woman is decreased every year,which causes the birth rate to decrease and the population growth rate to decrease."
   ]
  },
  {
   "cell_type": "markdown",
   "metadata": {
    "deletable": false,
    "editable": false
   },
   "source": [
    "It has been observed that lower fertility rates are often associated with lower child mortality rates. The link has been attributed to family planning: if parents can expect that their children will all survive into adulthood, then they will choose to have fewer children. We can see if this association is evident in Bangladesh by plotting the relationship between total fertility rate and [child mortality rate per 1000 children](https://en.wikipedia.org/wiki/Child_mortality)."
   ]
  },
  {
   "cell_type": "markdown",
   "metadata": {
    "deletable": false,
    "editable": false
   },
   "source": [
    "**Question 7.** Using both the `fertility` and `child_mortality` tables, draw a scatter diagram that has Bangladesh's total fertility on the horizontal axis and its child mortality on the vertical axis with one point for each year, starting with 1970.\n",
    "\n",
    "**The expression that draws the scatter diagram is provided for you; please don't change it.** Instead, create a table called `post_1969_fertility_and_child_mortality` with the appropriate column labels and data in order to generate the chart correctly. Use the label `Children per woman` to describe total fertility and the label `Child deaths per 1000 born` to describe child mortality.\n",
    "\n",
    "<!--\n",
    "BEGIN QUESTION\n",
    "name: q1_7\n",
    "manual: false\n",
    "-->"
   ]
  },
  {
   "cell_type": "code",
   "execution_count": 19,
   "metadata": {},
   "outputs": [
    {
     "data": {
      "text/html": [
       "<table border=\"1\" class=\"dataframe\">\n",
       "    <thead>\n",
       "        <tr>\n",
       "            <th>geo</th> <th>time</th> <th>children_per_woman_total_fertility</th>\n",
       "        </tr>\n",
       "    </thead>\n",
       "    <tbody>\n",
       "        <tr>\n",
       "            <td>bgd </td> <td>1800</td> <td>6.7                               </td>\n",
       "        </tr>\n",
       "        <tr>\n",
       "            <td>bgd </td> <td>1801</td> <td>6.7                               </td>\n",
       "        </tr>\n",
       "        <tr>\n",
       "            <td>bgd </td> <td>1802</td> <td>6.7                               </td>\n",
       "        </tr>\n",
       "        <tr>\n",
       "            <td>bgd </td> <td>1803</td> <td>6.7                               </td>\n",
       "        </tr>\n",
       "        <tr>\n",
       "            <td>bgd </td> <td>1804</td> <td>6.7                               </td>\n",
       "        </tr>\n",
       "        <tr>\n",
       "            <td>bgd </td> <td>1805</td> <td>6.7                               </td>\n",
       "        </tr>\n",
       "        <tr>\n",
       "            <td>bgd </td> <td>1806</td> <td>6.7                               </td>\n",
       "        </tr>\n",
       "        <tr>\n",
       "            <td>bgd </td> <td>1807</td> <td>6.7                               </td>\n",
       "        </tr>\n",
       "        <tr>\n",
       "            <td>bgd </td> <td>1808</td> <td>6.7                               </td>\n",
       "        </tr>\n",
       "        <tr>\n",
       "            <td>bgd </td> <td>1809</td> <td>6.7                               </td>\n",
       "        </tr>\n",
       "    </tbody>\n",
       "</table>\n",
       "<p>... (206 rows omitted)</p>"
      ],
      "text/plain": [
       "geo  | time | children_per_woman_total_fertility\n",
       "bgd  | 1800 | 6.7\n",
       "bgd  | 1801 | 6.7\n",
       "bgd  | 1802 | 6.7\n",
       "bgd  | 1803 | 6.7\n",
       "bgd  | 1804 | 6.7\n",
       "bgd  | 1805 | 6.7\n",
       "bgd  | 1806 | 6.7\n",
       "bgd  | 1807 | 6.7\n",
       "bgd  | 1808 | 6.7\n",
       "bgd  | 1809 | 6.7\n",
       "... (206 rows omitted)"
      ]
     },
     "execution_count": 19,
     "metadata": {},
     "output_type": "execute_result"
    }
   ],
   "source": [
    "bgd_fertility =fertility.where('geo','bgd')\n",
    "bgd_fertility"
   ]
  },
  {
   "cell_type": "code",
   "execution_count": 20,
   "metadata": {},
   "outputs": [
    {
     "data": {
      "text/html": [
       "<table border=\"1\" class=\"dataframe\">\n",
       "    <thead>\n",
       "        <tr>\n",
       "            <th>geo</th> <th>time</th> <th>child_mortality_under_5_per_1000_born</th>\n",
       "        </tr>\n",
       "    </thead>\n",
       "    <tbody>\n",
       "        <tr>\n",
       "            <td>bgd </td> <td>1800</td> <td>507.9                                </td>\n",
       "        </tr>\n",
       "        <tr>\n",
       "            <td>bgd </td> <td>1801</td> <td>507.9                                </td>\n",
       "        </tr>\n",
       "        <tr>\n",
       "            <td>bgd </td> <td>1802</td> <td>507.9                                </td>\n",
       "        </tr>\n",
       "        <tr>\n",
       "            <td>bgd </td> <td>1803</td> <td>507.9                                </td>\n",
       "        </tr>\n",
       "        <tr>\n",
       "            <td>bgd </td> <td>1804</td> <td>507.9                                </td>\n",
       "        </tr>\n",
       "        <tr>\n",
       "            <td>bgd </td> <td>1805</td> <td>507.9                                </td>\n",
       "        </tr>\n",
       "        <tr>\n",
       "            <td>bgd </td> <td>1806</td> <td>507.9                                </td>\n",
       "        </tr>\n",
       "        <tr>\n",
       "            <td>bgd </td> <td>1807</td> <td>507.9                                </td>\n",
       "        </tr>\n",
       "        <tr>\n",
       "            <td>bgd </td> <td>1808</td> <td>507.9                                </td>\n",
       "        </tr>\n",
       "        <tr>\n",
       "            <td>bgd </td> <td>1809</td> <td>507.9                                </td>\n",
       "        </tr>\n",
       "    </tbody>\n",
       "</table>\n",
       "<p>... (206 rows omitted)</p>"
      ],
      "text/plain": [
       "geo  | time | child_mortality_under_5_per_1000_born\n",
       "bgd  | 1800 | 507.9\n",
       "bgd  | 1801 | 507.9\n",
       "bgd  | 1802 | 507.9\n",
       "bgd  | 1803 | 507.9\n",
       "bgd  | 1804 | 507.9\n",
       "bgd  | 1805 | 507.9\n",
       "bgd  | 1806 | 507.9\n",
       "bgd  | 1807 | 507.9\n",
       "bgd  | 1808 | 507.9\n",
       "bgd  | 1809 | 507.9\n",
       "... (206 rows omitted)"
      ]
     },
     "execution_count": 20,
     "metadata": {},
     "output_type": "execute_result"
    }
   ],
   "source": [
    "bgd_child_mortality = child_mortality.where('geo','bgd')\n",
    "bgd_child_mortality"
   ]
  },
  {
   "cell_type": "code",
   "execution_count": 21,
   "metadata": {},
   "outputs": [
    {
     "data": {
      "text/html": [
       "<table border=\"1\" class=\"dataframe\">\n",
       "    <thead>\n",
       "        <tr>\n",
       "            <th>Time</th> <th>Children per woman</th> <th>Child deaths per 1000 born</th>\n",
       "        </tr>\n",
       "    </thead>\n",
       "    <tbody>\n",
       "        <tr>\n",
       "            <td>1800</td> <td>6.7               </td> <td>507.9                     </td>\n",
       "        </tr>\n",
       "        <tr>\n",
       "            <td>1801</td> <td>6.7               </td> <td>507.9                     </td>\n",
       "        </tr>\n",
       "        <tr>\n",
       "            <td>1802</td> <td>6.7               </td> <td>507.9                     </td>\n",
       "        </tr>\n",
       "        <tr>\n",
       "            <td>1803</td> <td>6.7               </td> <td>507.9                     </td>\n",
       "        </tr>\n",
       "        <tr>\n",
       "            <td>1804</td> <td>6.7               </td> <td>507.9                     </td>\n",
       "        </tr>\n",
       "        <tr>\n",
       "            <td>1805</td> <td>6.7               </td> <td>507.9                     </td>\n",
       "        </tr>\n",
       "        <tr>\n",
       "            <td>1806</td> <td>6.7               </td> <td>507.9                     </td>\n",
       "        </tr>\n",
       "        <tr>\n",
       "            <td>1807</td> <td>6.7               </td> <td>507.9                     </td>\n",
       "        </tr>\n",
       "        <tr>\n",
       "            <td>1808</td> <td>6.7               </td> <td>507.9                     </td>\n",
       "        </tr>\n",
       "        <tr>\n",
       "            <td>1809</td> <td>6.7               </td> <td>507.9                     </td>\n",
       "        </tr>\n",
       "    </tbody>\n",
       "</table>\n",
       "<p>... (206 rows omitted)</p>"
      ],
      "text/plain": [
       "Time | Children per woman | Child deaths per 1000 born\n",
       "1800 | 6.7                | 507.9\n",
       "1801 | 6.7                | 507.9\n",
       "1802 | 6.7                | 507.9\n",
       "1803 | 6.7                | 507.9\n",
       "1804 | 6.7                | 507.9\n",
       "1805 | 6.7                | 507.9\n",
       "1806 | 6.7                | 507.9\n",
       "1807 | 6.7                | 507.9\n",
       "1808 | 6.7                | 507.9\n",
       "1809 | 6.7                | 507.9\n",
       "... (206 rows omitted)"
      ]
     },
     "execution_count": 21,
     "metadata": {},
     "output_type": "execute_result"
    }
   ],
   "source": [
    "fertility_and_child_mortality = Table().with_columns('Time',bgd_fertility.column('time'),\n",
    "                                                     'Children per woman',bgd_fertility.column('children_per_woman_total_fertility'),\n",
    "                                                     'Child deaths per 1000 born',bgd_child_mortality.column(\"child_mortality_under_5_per_1000_born\")\n",
    "                                                    )\n",
    "fertility_and_child_mortality"
   ]
  },
  {
   "cell_type": "code",
   "execution_count": 22,
   "metadata": {},
   "outputs": [
    {
     "data": {
      "text/html": [
       "<table border=\"1\" class=\"dataframe\">\n",
       "    <thead>\n",
       "        <tr>\n",
       "            <th>Time</th> <th>Children per woman</th> <th>Child deaths per 1000 born</th>\n",
       "        </tr>\n",
       "    </thead>\n",
       "    <tbody>\n",
       "        <tr>\n",
       "            <td>1970</td> <td>6.95              </td> <td>224.1                     </td>\n",
       "        </tr>\n",
       "        <tr>\n",
       "            <td>1971</td> <td>6.94              </td> <td>223                       </td>\n",
       "        </tr>\n",
       "        <tr>\n",
       "            <td>1972</td> <td>6.93              </td> <td>222                       </td>\n",
       "        </tr>\n",
       "        <tr>\n",
       "            <td>1973</td> <td>6.9               </td> <td>220.7                     </td>\n",
       "        </tr>\n",
       "        <tr>\n",
       "            <td>1974</td> <td>6.87              </td> <td>219.1                     </td>\n",
       "        </tr>\n",
       "        <tr>\n",
       "            <td>1975</td> <td>6.82              </td> <td>217.1                     </td>\n",
       "        </tr>\n",
       "        <tr>\n",
       "            <td>1976</td> <td>6.76              </td> <td>214.5                     </td>\n",
       "        </tr>\n",
       "        <tr>\n",
       "            <td>1977</td> <td>6.68              </td> <td>211.2                     </td>\n",
       "        </tr>\n",
       "        <tr>\n",
       "            <td>1978</td> <td>6.59              </td> <td>207.4                     </td>\n",
       "        </tr>\n",
       "        <tr>\n",
       "            <td>1979</td> <td>6.48              </td> <td>203.3                     </td>\n",
       "        </tr>\n",
       "    </tbody>\n",
       "</table>\n",
       "<p>... (36 rows omitted)</p>"
      ],
      "text/plain": [
       "Time | Children per woman | Child deaths per 1000 born\n",
       "1970 | 6.95               | 224.1\n",
       "1971 | 6.94               | 223\n",
       "1972 | 6.93               | 222\n",
       "1973 | 6.9                | 220.7\n",
       "1974 | 6.87               | 219.1\n",
       "1975 | 6.82               | 217.1\n",
       "1976 | 6.76               | 214.5\n",
       "1977 | 6.68               | 211.2\n",
       "1978 | 6.59               | 207.4\n",
       "1979 | 6.48               | 203.3\n",
       "... (36 rows omitted)"
      ]
     },
     "execution_count": 22,
     "metadata": {},
     "output_type": "execute_result"
    }
   ],
   "source": [
    "post_1969_fertility_and_child_mortality =fertility_and_child_mortality.where('Time',are.above(1969))\n",
    "post_1969_fertility_and_child_mortality"
   ]
  },
  {
   "cell_type": "code",
   "execution_count": 23,
   "metadata": {
    "deletable": false
   },
   "outputs": [
    {
     "data": {
      "image/png": "[encoded data removed]",
      "text/plain": [
       "<Figure size 360x360 with 1 Axes>"
      ]
     },
     "metadata": {},
     "output_type": "display_data"
    }
   ],
   "source": [
    "bgd_fertility =fertility.where('geo','bgd')\n",
    "bgd_child_mortality = child_mortality.where('geo','bgd')\n",
    "fertility_and_child_mortality = Table().with_columns('Time',bgd_fertility.column('time'),\n",
    "                                                     'Children per woman',bgd_fertility.column('children_per_woman_total_fertility'),\n",
    "                                                     'Child deaths per 1000 born',bgd_child_mortality.column(\"child_mortality_under_5_per_1000_born\")\n",
    "                                                    )\n",
    "post_1969_fertility_and_child_mortality =fertility_and_child_mortality.where('Time',are.above(1969))\n",
    "\n",
    "post_1969_fertility_and_child_mortality.scatter('Children per woman', 'Child deaths per 1000 born') # You should *not* change this line."
   ]
  },
  {
   "cell_type": "code",
   "execution_count": 24,
   "metadata": {
    "deletable": false,
    "editable": false
   },
   "outputs": [
    {
     "name": "stdout",
     "output_type": "stream",
     "text": [
      "~~~~~~~~~~~~~~~~~~~~~~~~~~~~~~~~~~~~~~~~~~~~~~~~~~~~~~~~~~~~~~~~~~~~~\n",
      "Running tests\n",
      "\n",
      "---------------------------------------------------------------------\n",
      "Test summary\n",
      "    Passed: 2\n",
      "    Failed: 0\n",
      "[ooooooooook] 100.0% passed\n",
      "\n"
     ]
    }
   ],
   "source": [
    "ok.grade(\"q1_7\");"
   ]
  },
  {
   "cell_type": "markdown",
   "metadata": {
    "deletable": false,
    "editable": false
   },
   "source": [
    "**Question 8.** In one or two sentences, describe the association (if any) that is illustrated by this scatter diagram. Does the diagram show that reduced child mortality causes parents to choose to have fewer children?\n",
    "\n",
    "<!--\n",
    "BEGIN QUESTION\n",
    "name: q1_8\n",
    "manual: true\n",
    "-->\n",
    "<!-- EXPORT TO PDF -->"
   ]
  },
  {
   "cell_type": "markdown",
   "metadata": {
    "deletable": false,
    "export_pdf": true,
    "manual_grade": true,
    "manual_problem_id": "global_pop_8"
   },
   "source": [
    "We can see from the graph, the higher child deaths per 1000 born, the more children per women would produce. The diagram does show us that reduced child mortality has positive association with the lower birth rate."
   ]
  },
  {
   "cell_type": "markdown",
   "metadata": {},
   "source": [
    "### Checkpoint (due Friday 9/27)\n",
    "#### Congratulations, you have reached the checkpoint! Run the submit cell below to generate the checkpoint submission."
   ]
  },
  {
   "cell_type": "code",
   "execution_count": 25,
   "metadata": {},
   "outputs": [
    {
     "data": {
      "application/javascript": [
       "IPython.notebook.save_checkpoint();"
      ],
      "text/plain": [
       "<IPython.core.display.Javascript object>"
      ]
     },
     "metadata": {},
     "output_type": "display_data"
    },
    {
     "data": {
      "application/javascript": [
       "IPython.notebook.save_notebook();"
      ],
      "text/plain": [
       "<IPython.core.display.Javascript object>"
      ]
     },
     "metadata": {},
     "output_type": "display_data"
    },
    {
     "name": "stdout",
     "output_type": "stream",
     "text": [
      "Saving notebook... Saved 'project1.ipynb'.\n",
      "Submit... 100% complete\n",
      "Submission successful for user: yli629@berkeley.edu\n",
      "URL: https://okpy.org/cal/data8/fa19/project1/submissions/QkWElM\n",
      "\n"
     ]
    }
   ],
   "source": [
    "_ = ok.submit()"
   ]
  },
  {
   "cell_type": "markdown",
   "metadata": {
    "deletable": false,
    "editable": false
   },
   "source": [
    "### The World\n",
    "\n",
    "The change observed in Bangladesh since 1970 can also be observed in many other developing countries: health services improve, life expectancy increases, and child mortality decreases. At the same time, the fertility rate often plummets, and so the population growth rate decreases despite increasing longevity."
   ]
  },
  {
   "cell_type": "markdown",
   "metadata": {
    "deletable": false,
    "editable": false
   },
   "source": [
    "Run the cell below to generate two overlaid histograms, one for 1960 and one for 2010, that show the distributions of total fertility rates for these two years among all 201 countries in the `fertility` table."
   ]
  },
  {
   "cell_type": "code",
   "execution_count": 26,
   "metadata": {
    "deletable": false
   },
   "outputs": [
    {
     "data": {
      "image/png": "[encoded data removed]",
      "text/plain": [
       "<Figure size 432x288 with 1 Axes>"
      ]
     },
     "metadata": {},
     "output_type": "display_data"
    }
   ],
   "source": [
    "Table().with_columns(\n",
    "    '1960', fertility.where('time', 1960).column(2),\n",
    "    '2010', fertility.where('time', 2010).column(2)\n",
    ").hist(bins=np.arange(0, 10, 0.5), unit='child per woman')\n",
    "_ = plots.xlabel('Children per woman')\n",
    "_ = plots.ylabel('Percent per children per woman')\n",
    "_ = plots.xticks(np.arange(10))"
   ]
  },
  {
   "cell_type": "markdown",
   "metadata": {
    "deletable": false,
    "editable": false
   },
   "source": [
    "**Question 9.** Assign `fertility_statements` to an array of the numbers of each statement below that can be correctly inferred from these histograms.\n",
    "1. About the same number of countries had a fertility rate between 3.5 and 4.5 in both 1960 and 2010.\n",
    "1. In 2010, about 40% of countries had a fertility rate between 1.5 and 2.\n",
    "1. In 1960, less than 20% of countries had a fertility rate below 3.\n",
    "1. More countries had a fertility rate above 3 in 1960 than in 2010.\n",
    "1. At least half of countries had a fertility rate between 5 and 8 in 1960.\n",
    "1. At least half of countries had a fertility rate below 3 in 2010.\n",
    "\n",
    "<!--\n",
    "BEGIN QUESTION\n",
    "name: q1_9\n",
    "-->"
   ]
  },
  {
   "cell_type": "code",
   "execution_count": 27,
   "metadata": {
    "deletable": false
   },
   "outputs": [
    {
     "data": {
      "text/plain": [
       "[1, 3, 4, 5, 6]"
      ]
     },
     "execution_count": 27,
     "metadata": {},
     "output_type": "execute_result"
    }
   ],
   "source": [
    "fertility_statements =[1,3,4,5,6]\n",
    "fertility_statements"
   ]
  },
  {
   "cell_type": "code",
   "execution_count": 28,
   "metadata": {
    "deletable": false,
    "editable": false
   },
   "outputs": [
    {
     "name": "stdout",
     "output_type": "stream",
     "text": [
      "~~~~~~~~~~~~~~~~~~~~~~~~~~~~~~~~~~~~~~~~~~~~~~~~~~~~~~~~~~~~~~~~~~~~~\n",
      "Running tests\n",
      "\n",
      "---------------------------------------------------------------------\n",
      "Test summary\n",
      "    Passed: 1\n",
      "    Failed: 0\n",
      "[ooooooooook] 100.0% passed\n",
      "\n"
     ]
    }
   ],
   "source": [
    "ok.grade(\"q1_9\");"
   ]
  },
  {
   "cell_type": "markdown",
   "metadata": {
    "deletable": false,
    "editable": false
   },
   "source": [
    "**Question 10.** Draw a line plot of the world population from 1800 through 2005. The world population is the sum of all the country's populations. \n",
    "\n",
    "<!--\n",
    "BEGIN QUESTION\n",
    "name: q1_10\n",
    "manual: true\n",
    "-->\n",
    "<!-- EXPORT TO PDF -->"
   ]
  },
  {
   "cell_type": "code",
   "execution_count": 29,
   "metadata": {
    "deletable": false,
    "export_pdf": true,
    "manual_grade": true,
    "manual_problem_id": "global_pop_10"
   },
   "outputs": [
    {
     "data": {
      "image/png": "[encoded data removed]",
      "text/plain": [
       "<Figure size 432x288 with 1 Axes>"
      ]
     },
     "metadata": {},
     "output_type": "display_data"
    }
   ],
   "source": [
    "#Fill in code here\n",
    "world_population1=population.where('time',are.between_or_equal_to(1800,2005)).group('time',sum)\n",
    "world_population1\n",
    "world_population1.plot('time','population_total sum')"
   ]
  },
  {
   "cell_type": "markdown",
   "metadata": {
    "deletable": false,
    "editable": false
   },
   "source": [
    "**Question 11.** Create a function `stats_for_year` that takes a `year` and returns a table of statistics. The table it returns should have four columns: `geo`, `population_total`, `children_per_woman_total_fertility`, and `child_mortality_under_5_per_1000_born`. Each row should contain one Alpha-3 country code and three statistics: population, fertility rate, and child mortality for that `year` from the `population`, `fertility` and `child_mortality` tables. Only include rows for which all three statistics are available for the country and year.\n",
    "\n",
    "In addition, restrict the result to country codes that appears in `big_50`, an array of the 50 most populous countries in 2010. This restriction will speed up computations later in the project.\n",
    "\n",
    "After you write `stats_for_year`, try calling `stats_for_year` on any year between 1960 and 2010. Try to understand the output of stats_for_year.\n",
    "\n",
    "*Hint*: The tests for this question are quite comprehensive, so if you pass the tests, your function is probably correct. However, without calling your function yourself and looking at the output, it will be very difficult to understand any problems you have, so try your best to write the function correctly and check that it works before you rely on the `ok` tests to confirm your work.\n",
    "\n",
    "<!--\n",
    "BEGIN QUESTION\n",
    "name: q1_11\n",
    "manual: false\n",
    "-->"
   ]
  },
  {
   "cell_type": "code",
   "execution_count": 30,
   "metadata": {},
   "outputs": [
    {
     "data": {
      "text/plain": [
       "array(['chn', 'ind', 'usa', 'idn', 'bra', 'pak', 'nga', 'bgd', 'rus',\n",
       "       'jpn', 'mex', 'phl', 'vnm', 'eth', 'egy', 'deu', 'irn', 'tur',\n",
       "       'tha', 'cod', 'fra', 'gbr', 'ita', 'mmr', 'zaf', 'kor', 'esp',\n",
       "       'col', 'tza', 'ukr', 'arg', 'ken', 'pol', 'sdn', 'dza', 'can',\n",
       "       'uga', 'mar', 'irq', 'per', 'ven', 'mys', 'sau', 'afg', 'uzb',\n",
       "       'npl', 'prk', 'moz', 'gha', 'yem'], dtype='<U11')"
      ]
     },
     "execution_count": 30,
     "metadata": {},
     "output_type": "execute_result"
    }
   ],
   "source": [
    "big_50 = population.where('time', are.equal_to(2010)).sort(\"population_total\", descending=True).take(np.arange(50)).column('geo')\n",
    "big_50"
   ]
  },
  {
   "cell_type": "code",
   "execution_count": 31,
   "metadata": {},
   "outputs": [
    {
     "data": {
      "text/html": [
       "<table border=\"1\" class=\"dataframe\">\n",
       "    <thead>\n",
       "        <tr>\n",
       "            <th>geo</th> <th>time</th> <th>population_total</th>\n",
       "        </tr>\n",
       "    </thead>\n",
       "    <tbody>\n",
       "        <tr>\n",
       "            <td>afg </td> <td>1960</td> <td>8994793         </td>\n",
       "        </tr>\n",
       "        <tr>\n",
       "            <td>afg </td> <td>1961</td> <td>9164945         </td>\n",
       "        </tr>\n",
       "        <tr>\n",
       "            <td>afg </td> <td>1962</td> <td>9343772         </td>\n",
       "        </tr>\n",
       "        <tr>\n",
       "            <td>afg </td> <td>1963</td> <td>9531555         </td>\n",
       "        </tr>\n",
       "        <tr>\n",
       "            <td>afg </td> <td>1964</td> <td>9728645         </td>\n",
       "        </tr>\n",
       "        <tr>\n",
       "            <td>afg </td> <td>1965</td> <td>9935358         </td>\n",
       "        </tr>\n",
       "        <tr>\n",
       "            <td>afg </td> <td>1966</td> <td>10148841        </td>\n",
       "        </tr>\n",
       "        <tr>\n",
       "            <td>afg </td> <td>1967</td> <td>10368600        </td>\n",
       "        </tr>\n",
       "        <tr>\n",
       "            <td>afg </td> <td>1968</td> <td>10599790        </td>\n",
       "        </tr>\n",
       "        <tr>\n",
       "            <td>afg </td> <td>1969</td> <td>10849510        </td>\n",
       "        </tr>\n",
       "    </tbody>\n",
       "</table>\n",
       "<p>... (7040 rows omitted)</p>"
      ],
      "text/plain": [
       "geo  | time | population_total\n",
       "afg  | 1960 | 8994793\n",
       "afg  | 1961 | 9164945\n",
       "afg  | 1962 | 9343772\n",
       "afg  | 1963 | 9531555\n",
       "afg  | 1964 | 9728645\n",
       "afg  | 1965 | 9935358\n",
       "afg  | 1966 | 10148841\n",
       "afg  | 1967 | 10368600\n",
       "afg  | 1968 | 10599790\n",
       "afg  | 1969 | 10849510\n",
       "... (7040 rows omitted)"
      ]
     },
     "execution_count": 31,
     "metadata": {},
     "output_type": "execute_result"
    }
   ],
   "source": [
    "population_of_big_50 = population.where('time', are.above(1959)).where('geo', are.contained_in(big_50))\n",
    "population_of_big_50"
   ]
  },
  {
   "cell_type": "code",
   "execution_count": 32,
   "metadata": {},
   "outputs": [
    {
     "data": {
      "text/html": [
       "<table border=\"1\" class=\"dataframe\">\n",
       "    <thead>\n",
       "        <tr>\n",
       "            <th>geo</th> <th>time</th> <th>children_per_woman_total_fertility</th>\n",
       "        </tr>\n",
       "    </thead>\n",
       "    <tbody>\n",
       "        <tr>\n",
       "            <td>afg </td> <td>1960</td> <td>7.67                              </td>\n",
       "        </tr>\n",
       "        <tr>\n",
       "            <td>afg </td> <td>1961</td> <td>7.67                              </td>\n",
       "        </tr>\n",
       "        <tr>\n",
       "            <td>afg </td> <td>1962</td> <td>7.67                              </td>\n",
       "        </tr>\n",
       "        <tr>\n",
       "            <td>afg </td> <td>1963</td> <td>7.67                              </td>\n",
       "        </tr>\n",
       "        <tr>\n",
       "            <td>afg </td> <td>1964</td> <td>7.67                              </td>\n",
       "        </tr>\n",
       "        <tr>\n",
       "            <td>afg </td> <td>1965</td> <td>7.67                              </td>\n",
       "        </tr>\n",
       "        <tr>\n",
       "            <td>afg </td> <td>1966</td> <td>7.67                              </td>\n",
       "        </tr>\n",
       "        <tr>\n",
       "            <td>afg </td> <td>1967</td> <td>7.67                              </td>\n",
       "        </tr>\n",
       "        <tr>\n",
       "            <td>afg </td> <td>1968</td> <td>7.67                              </td>\n",
       "        </tr>\n",
       "        <tr>\n",
       "            <td>afg </td> <td>1969</td> <td>7.67                              </td>\n",
       "        </tr>\n",
       "    </tbody>\n",
       "</table>\n",
       "<p>... (2790 rows omitted)</p>"
      ],
      "text/plain": [
       "geo  | time | children_per_woman_total_fertility\n",
       "afg  | 1960 | 7.67\n",
       "afg  | 1961 | 7.67\n",
       "afg  | 1962 | 7.67\n",
       "afg  | 1963 | 7.67\n",
       "afg  | 1964 | 7.67\n",
       "afg  | 1965 | 7.67\n",
       "afg  | 1966 | 7.67\n",
       "afg  | 1967 | 7.67\n",
       "afg  | 1968 | 7.67\n",
       "afg  | 1969 | 7.67\n",
       "... (2790 rows omitted)"
      ]
     },
     "execution_count": 32,
     "metadata": {},
     "output_type": "execute_result"
    }
   ],
   "source": [
    "fertility_of_big_50=fertility.where('time', are.above(1959)).where('geo', are.contained_in(big_50))\n",
    "fertility_of_big_50"
   ]
  },
  {
   "cell_type": "code",
   "execution_count": 33,
   "metadata": {},
   "outputs": [
    {
     "data": {
      "text/html": [
       "<table border=\"1\" class=\"dataframe\">\n",
       "    <thead>\n",
       "        <tr>\n",
       "            <th>geo</th> <th>time</th> <th>child_mortality_under_5_per_1000_born</th>\n",
       "        </tr>\n",
       "    </thead>\n",
       "    <tbody>\n",
       "        <tr>\n",
       "            <td>afg </td> <td>1960</td> <td>362.4                                </td>\n",
       "        </tr>\n",
       "        <tr>\n",
       "            <td>afg </td> <td>1961</td> <td>356.5                                </td>\n",
       "        </tr>\n",
       "        <tr>\n",
       "            <td>afg </td> <td>1962</td> <td>350.6                                </td>\n",
       "        </tr>\n",
       "        <tr>\n",
       "            <td>afg </td> <td>1963</td> <td>345                                  </td>\n",
       "        </tr>\n",
       "        <tr>\n",
       "            <td>afg </td> <td>1964</td> <td>339.7                                </td>\n",
       "        </tr>\n",
       "        <tr>\n",
       "            <td>afg </td> <td>1965</td> <td>334.1                                </td>\n",
       "        </tr>\n",
       "        <tr>\n",
       "            <td>afg </td> <td>1966</td> <td>328.7                                </td>\n",
       "        </tr>\n",
       "        <tr>\n",
       "            <td>afg </td> <td>1967</td> <td>323.3                                </td>\n",
       "        </tr>\n",
       "        <tr>\n",
       "            <td>afg </td> <td>1968</td> <td>318.1                                </td>\n",
       "        </tr>\n",
       "        <tr>\n",
       "            <td>afg </td> <td>1969</td> <td>313                                  </td>\n",
       "        </tr>\n",
       "    </tbody>\n",
       "</table>\n",
       "<p>... (2790 rows omitted)</p>"
      ],
      "text/plain": [
       "geo  | time | child_mortality_under_5_per_1000_born\n",
       "afg  | 1960 | 362.4\n",
       "afg  | 1961 | 356.5\n",
       "afg  | 1962 | 350.6\n",
       "afg  | 1963 | 345\n",
       "afg  | 1964 | 339.7\n",
       "afg  | 1965 | 334.1\n",
       "afg  | 1966 | 328.7\n",
       "afg  | 1967 | 323.3\n",
       "afg  | 1968 | 318.1\n",
       "afg  | 1969 | 313\n",
       "... (2790 rows omitted)"
      ]
     },
     "execution_count": 33,
     "metadata": {},
     "output_type": "execute_result"
    }
   ],
   "source": [
    "child_mortality_of_big_50=child_mortality.where('time', are.above(1959)).where('geo', are.contained_in(big_50))\n",
    "child_mortality_of_big_50"
   ]
  },
  {
   "cell_type": "code",
   "execution_count": 34,
   "metadata": {
    "deletable": false
   },
   "outputs": [],
   "source": [
    "# We first create a population table that only includes the \n",
    "# 50 countries with the largest 2010 populations. We focus on \n",
    "# these 50 countries only so that plotting later will run faster.\n",
    "big_50 = population.where('time', are.equal_to(2010)).sort(\"population_total\", descending=True).take(np.arange(50)).column('geo')\n",
    "population_of_big_50 = population.where('time', are.above(1959)).where('geo', are.contained_in(big_50)).sort('geo')\n",
    "fertility_of_big_50=fertility.where('time', are.above(1959)).where('geo', are.contained_in(big_50)).sort('geo')\n",
    "child_mortality_of_big_50=child_mortality.where('time', are.above(1959)).where('geo', are.contained_in(big_50)).sort('geo')\n",
    "def stats_for_year(year):\n",
    "    \"\"\"Return a table of the stats for each country that year.\"\"\"\n",
    "    p = population_of_big_50.where('time', are.equal_to(year)).drop('time')\n",
    "    f = fertility_of_big_50.where('time', are.equal_to(year)).drop('time')\n",
    "    c = child_mortality_of_big_50.where('time', are.equal_to(year)).drop('time')\n",
    "    table3=Table().with_columns('geo', p.column('geo'),\n",
    "                                'population_total', p.column('population_total'),\n",
    "                                'children_per_woman_total_fertility',f.column('children_per_woman_total_fertility'),\n",
    "                                'child_mortality_under_5_per_1000_born',c.column('child_mortality_under_5_per_1000_born'))\n",
    "    return table3\n",
    "\n"
   ]
  },
  {
   "cell_type": "code",
   "execution_count": 35,
   "metadata": {},
   "outputs": [
    {
     "data": {
      "text/plain": [
       "2624944597"
      ]
     },
     "execution_count": 35,
     "metadata": {},
     "output_type": "execute_result"
    }
   ],
   "source": [
    "p=population_of_big_50.where('time', are.equal_to(1960)).drop('time')\n",
    "sum(p.column('population_total'))"
   ]
  },
  {
   "cell_type": "code",
   "execution_count": 36,
   "metadata": {},
   "outputs": [
    {
     "data": {
      "text/html": [
       "<table border=\"1\" class=\"dataframe\">\n",
       "    <thead>\n",
       "        <tr>\n",
       "            <th>geo</th> <th>population_total</th> <th>children_per_woman_total_fertility</th> <th>child_mortality_under_5_per_1000_born</th>\n",
       "        </tr>\n",
       "    </thead>\n",
       "    <tbody>\n",
       "        <tr>\n",
       "            <td>afg </td> <td>8994793         </td> <td>7.67                              </td> <td>362.4                                </td>\n",
       "        </tr>\n",
       "        <tr>\n",
       "            <td>arg </td> <td>20619075        </td> <td>3.11                              </td> <td>73.2                                 </td>\n",
       "        </tr>\n",
       "        <tr>\n",
       "            <td>bgd </td> <td>48200702        </td> <td>6.73                              </td> <td>264.3                                </td>\n",
       "        </tr>\n",
       "        <tr>\n",
       "            <td>bra </td> <td>72493585        </td> <td>6.21                              </td> <td>171.8                                </td>\n",
       "        </tr>\n",
       "        <tr>\n",
       "            <td>can </td> <td>17909232        </td> <td>3.91                              </td> <td>32.6                                 </td>\n",
       "        </tr>\n",
       "        <tr>\n",
       "            <td>chn </td> <td>644450173       </td> <td>3.99                              </td> <td>309                                  </td>\n",
       "        </tr>\n",
       "        <tr>\n",
       "            <td>cod </td> <td>15248246        </td> <td>6                                 </td> <td>266                                  </td>\n",
       "        </tr>\n",
       "        <tr>\n",
       "            <td>col </td> <td>16480384        </td> <td>6.81                              </td> <td>127.3                                </td>\n",
       "        </tr>\n",
       "        <tr>\n",
       "            <td>deu </td> <td>73179665        </td> <td>2.41                              </td> <td>42.87                                </td>\n",
       "        </tr>\n",
       "        <tr>\n",
       "            <td>dza </td> <td>11124892        </td> <td>7.65                              </td> <td>245.7                                </td>\n",
       "        </tr>\n",
       "    </tbody>\n",
       "</table>\n",
       "<p>... (40 rows omitted)</p>"
      ],
      "text/plain": [
       "geo  | population_total | children_per_woman_total_fertility | child_mortality_under_5_per_1000_born\n",
       "afg  | 8994793          | 7.67                               | 362.4\n",
       "arg  | 20619075         | 3.11                               | 73.2\n",
       "bgd  | 48200702         | 6.73                               | 264.3\n",
       "bra  | 72493585         | 6.21                               | 171.8\n",
       "can  | 17909232         | 3.91                               | 32.6\n",
       "chn  | 644450173        | 3.99                               | 309\n",
       "cod  | 15248246         | 6                                  | 266\n",
       "col  | 16480384         | 6.81                               | 127.3\n",
       "deu  | 73179665         | 2.41                               | 42.87\n",
       "dza  | 11124892         | 7.65                               | 245.7\n",
       "... (40 rows omitted)"
      ]
     },
     "execution_count": 36,
     "metadata": {},
     "output_type": "execute_result"
    }
   ],
   "source": [
    "stats_for_year(1960)"
   ]
  },
  {
   "cell_type": "code",
   "execution_count": 37,
   "metadata": {
    "deletable": false,
    "editable": false
   },
   "outputs": [
    {
     "name": "stdout",
     "output_type": "stream",
     "text": [
      "~~~~~~~~~~~~~~~~~~~~~~~~~~~~~~~~~~~~~~~~~~~~~~~~~~~~~~~~~~~~~~~~~~~~~\n",
      "Running tests\n",
      "\n",
      "---------------------------------------------------------------------\n",
      "Test summary\n",
      "    Passed: 4\n",
      "    Failed: 0\n",
      "[ooooooooook] 100.0% passed\n",
      "\n"
     ]
    }
   ],
   "source": [
    "ok.grade(\"q1_11\");"
   ]
  },
  {
   "cell_type": "markdown",
   "metadata": {
    "deletable": false,
    "editable": false
   },
   "source": [
    "**Question 12.** Create a table called `pop_by_decade` with two columns called `decade` and `population`. It has a row for each `year` since 1960 that starts a decade. The `population` column contains the total population of all countries included in the result of `stats_for_year(year)` for the first `year` of the decade. For example, 1960 is the first year of the 1960's decade. You should see that these countries contain most of the world's population.\n",
    "\n",
    "*Hint:* One approach is to define a function `pop_for_year` that computes this total population, then `apply` it to the `decade` column.  The `stats_for_year` function from the previous question may be useful here.\n",
    "\n",
    "This first test is just a sanity check for your helper function if you choose to use it. You will not lose points for not implementing the function `pop_for_year`.\n",
    "\n",
    "**Note:** The cell where you will generate the `pop_by_decade` table is below the cell where you can choose to define the helper function `pop_for_year`. You should define your `pop_by_decade` table in the cell that starts with the table `decades` being defined. \n",
    "\n",
    "<!--\n",
    "BEGIN QUESTION\n",
    "name: q1_12_0\n",
    "manual: false\n",
    "points: 0\n",
    "-->"
   ]
  },
  {
   "cell_type": "code",
   "execution_count": 38,
   "metadata": {},
   "outputs": [],
   "source": [
    "def pop_for_year(year):\n",
    "    popu=population_of_big_50.where('time', are.equal_to(year)).drop('time')\n",
    "    return sum(popu.column('population_total'))"
   ]
  },
  {
   "cell_type": "code",
   "execution_count": 39,
   "metadata": {
    "deletable": false,
    "editable": false
   },
   "outputs": [
    {
     "name": "stdout",
     "output_type": "stream",
     "text": [
      "~~~~~~~~~~~~~~~~~~~~~~~~~~~~~~~~~~~~~~~~~~~~~~~~~~~~~~~~~~~~~~~~~~~~~\n",
      "Running tests\n",
      "\n",
      "---------------------------------------------------------------------\n",
      "Test summary\n",
      "    Passed: 3\n",
      "    Failed: 0\n",
      "[ooooooooook] 100.0% passed\n",
      "\n"
     ]
    }
   ],
   "source": [
    "ok.grade(\"q1_12_0\");"
   ]
  },
  {
   "cell_type": "markdown",
   "metadata": {
    "deletable": false,
    "editable": false
   },
   "source": [
    "Now that you've defined your helper function (if you've chosen to do so), define the `pop_by_decade` table.\n",
    "\n",
    "<!--\n",
    "BEGIN QUESTION\n",
    "name: q1_12\n",
    "manual: false\n",
    "-->"
   ]
  },
  {
   "cell_type": "code",
   "execution_count": 40,
   "metadata": {},
   "outputs": [
    {
     "data": {
      "text/html": [
       "<table border=\"1\" class=\"dataframe\">\n",
       "    <thead>\n",
       "        <tr>\n",
       "            <th>decade</th>\n",
       "        </tr>\n",
       "    </thead>\n",
       "    <tbody>\n",
       "        <tr>\n",
       "            <td>1960  </td>\n",
       "        </tr>\n",
       "        <tr>\n",
       "            <td>1970  </td>\n",
       "        </tr>\n",
       "        <tr>\n",
       "            <td>1980  </td>\n",
       "        </tr>\n",
       "        <tr>\n",
       "            <td>1990  </td>\n",
       "        </tr>\n",
       "        <tr>\n",
       "            <td>2000  </td>\n",
       "        </tr>\n",
       "        <tr>\n",
       "            <td>2010  </td>\n",
       "        </tr>\n",
       "    </tbody>\n",
       "</table>"
      ],
      "text/plain": [
       "decade\n",
       "1960\n",
       "1970\n",
       "1980\n",
       "1990\n",
       "2000\n",
       "2010"
      ]
     },
     "execution_count": 40,
     "metadata": {},
     "output_type": "execute_result"
    }
   ],
   "source": [
    "decades = Table().with_column('decade', np.arange(1960, 2011, 10))\n",
    "decades"
   ]
  },
  {
   "cell_type": "code",
   "execution_count": 41,
   "metadata": {
    "deletable": false
   },
   "outputs": [
    {
     "data": {
      "text/html": [
       "<table border=\"1\" class=\"dataframe\">\n",
       "    <thead>\n",
       "        <tr>\n",
       "            <th>decade</th> <th>population</th>\n",
       "        </tr>\n",
       "    </thead>\n",
       "    <tbody>\n",
       "        <tr>\n",
       "            <td>1960  </td> <td>2,624,944,597</td>\n",
       "        </tr>\n",
       "        <tr>\n",
       "            <td>1970  </td> <td>3,211,487,418</td>\n",
       "        </tr>\n",
       "        <tr>\n",
       "            <td>1980  </td> <td>3,880,722,003</td>\n",
       "        </tr>\n",
       "        <tr>\n",
       "            <td>1990  </td> <td>4,648,434,558</td>\n",
       "        </tr>\n",
       "        <tr>\n",
       "            <td>2000  </td> <td>5,367,553,063</td>\n",
       "        </tr>\n",
       "        <tr>\n",
       "            <td>2010  </td> <td>6,040,810,517</td>\n",
       "        </tr>\n",
       "    </tbody>\n",
       "</table>"
      ],
      "text/plain": [
       "decade | population\n",
       "1960   | 2,624,944,597\n",
       "1970   | 3,211,487,418\n",
       "1980   | 3,880,722,003\n",
       "1990   | 4,648,434,558\n",
       "2000   | 5,367,553,063\n",
       "2010   | 6,040,810,517"
      ]
     },
     "execution_count": 41,
     "metadata": {},
     "output_type": "execute_result"
    }
   ],
   "source": [
    "decades = Table().with_column('decade', np.arange(1960, 2011, 10))\n",
    "\n",
    "pop_by_decade = decades.with_column('population',decades.apply(pop_for_year,'decade'))\n",
    "pop_by_decade.set_format(1, NumberFormatter)"
   ]
  },
  {
   "cell_type": "code",
   "execution_count": 42,
   "metadata": {
    "deletable": false,
    "editable": false
   },
   "outputs": [
    {
     "name": "stdout",
     "output_type": "stream",
     "text": [
      "~~~~~~~~~~~~~~~~~~~~~~~~~~~~~~~~~~~~~~~~~~~~~~~~~~~~~~~~~~~~~~~~~~~~~\n",
      "Running tests\n",
      "\n",
      "---------------------------------------------------------------------\n",
      "Test summary\n",
      "    Passed: 2\n",
      "    Failed: 0\n",
      "[ooooooooook] 100.0% passed\n",
      "\n"
     ]
    }
   ],
   "source": [
    "ok.grade(\"q1_12\");"
   ]
  },
  {
   "cell_type": "markdown",
   "metadata": {
    "deletable": false,
    "editable": false
   },
   "source": [
    "The `countries` table describes various characteristics of countries. The `country` column contains the same codes as the `geo` column in each of the other data tables (`population`, `fertility`, and `child_mortality`). The `world_6region` column classifies each country into a region of the world. Run the cell below to inspect the data."
   ]
  },
  {
   "cell_type": "code",
   "execution_count": 43,
   "metadata": {},
   "outputs": [
    {
     "data": {
      "text/html": [
       "<table border=\"1\" class=\"dataframe\">\n",
       "    <thead>\n",
       "        <tr>\n",
       "            <th>country</th> <th>name</th> <th>world_6region</th>\n",
       "        </tr>\n",
       "    </thead>\n",
       "    <tbody>\n",
       "        <tr>\n",
       "            <td>afg      </td> <td>Afghanistan          </td> <td>south_asia              </td>\n",
       "        </tr>\n",
       "        <tr>\n",
       "            <td>akr_a_dhe</td> <td>Akrotiri and Dhekelia</td> <td>europe_central_asia     </td>\n",
       "        </tr>\n",
       "        <tr>\n",
       "            <td>alb      </td> <td>Albania              </td> <td>europe_central_asia     </td>\n",
       "        </tr>\n",
       "        <tr>\n",
       "            <td>dza      </td> <td>Algeria              </td> <td>middle_east_north_africa</td>\n",
       "        </tr>\n",
       "        <tr>\n",
       "            <td>asm      </td> <td>American Samoa       </td> <td>east_asia_pacific       </td>\n",
       "        </tr>\n",
       "        <tr>\n",
       "            <td>and      </td> <td>Andorra              </td> <td>europe_central_asia     </td>\n",
       "        </tr>\n",
       "        <tr>\n",
       "            <td>ago      </td> <td>Angola               </td> <td>sub_saharan_africa      </td>\n",
       "        </tr>\n",
       "        <tr>\n",
       "            <td>aia      </td> <td>Anguilla             </td> <td>america                 </td>\n",
       "        </tr>\n",
       "        <tr>\n",
       "            <td>atg      </td> <td>Antigua and Barbuda  </td> <td>america                 </td>\n",
       "        </tr>\n",
       "        <tr>\n",
       "            <td>arg      </td> <td>Argentina            </td> <td>america                 </td>\n",
       "        </tr>\n",
       "    </tbody>\n",
       "</table>\n",
       "<p>... (245 rows omitted)</p>"
      ],
      "text/plain": [
       "country   | name                  | world_6region\n",
       "afg       | Afghanistan           | south_asia\n",
       "akr_a_dhe | Akrotiri and Dhekelia | europe_central_asia\n",
       "alb       | Albania               | europe_central_asia\n",
       "dza       | Algeria               | middle_east_north_africa\n",
       "asm       | American Samoa        | east_asia_pacific\n",
       "and       | Andorra               | europe_central_asia\n",
       "ago       | Angola                | sub_saharan_africa\n",
       "aia       | Anguilla              | america\n",
       "atg       | Antigua and Barbuda   | america\n",
       "arg       | Argentina             | america\n",
       "... (245 rows omitted)"
      ]
     },
     "execution_count": 43,
     "metadata": {},
     "output_type": "execute_result"
    }
   ],
   "source": [
    "countries = Table.read_table('countries.csv').where('country', are.contained_in(population.group('geo').column('geo')))\n",
    "countries.select('country', 'name', 'world_6region')"
   ]
  },
  {
   "cell_type": "markdown",
   "metadata": {
    "deletable": false,
    "editable": false
   },
   "source": [
    "**Question 13.** Create a table called `region_counts` that has two columns, `region` and `count`. It should contain two columns: a region column and a count column that contains the number of countries in each region that appear in the result of `stats_for_year(1960)`. For example, one row would have `south_asia` as its `world_6region` value and an integer as its `count` value: the number of large South Asian countries for which we have population, fertility, and child mortality numbers from 1960.\n",
    "\n",
    "<!--\n",
    "BEGIN QUESTION\n",
    "name: q1_13\n",
    "-->"
   ]
  },
  {
   "cell_type": "code",
   "execution_count": 44,
   "metadata": {},
   "outputs": [
    {
     "data": {
      "text/html": [
       "<table border=\"1\" class=\"dataframe\">\n",
       "    <thead>\n",
       "        <tr>\n",
       "            <th>country</th> <th>world_6region</th>\n",
       "        </tr>\n",
       "    </thead>\n",
       "    <tbody>\n",
       "        <tr>\n",
       "            <td>afg    </td> <td>south_asia              </td>\n",
       "        </tr>\n",
       "        <tr>\n",
       "            <td>dza    </td> <td>middle_east_north_africa</td>\n",
       "        </tr>\n",
       "        <tr>\n",
       "            <td>arg    </td> <td>america                 </td>\n",
       "        </tr>\n",
       "        <tr>\n",
       "            <td>bgd    </td> <td>south_asia              </td>\n",
       "        </tr>\n",
       "        <tr>\n",
       "            <td>bra    </td> <td>america                 </td>\n",
       "        </tr>\n",
       "        <tr>\n",
       "            <td>can    </td> <td>america                 </td>\n",
       "        </tr>\n",
       "        <tr>\n",
       "            <td>chn    </td> <td>east_asia_pacific       </td>\n",
       "        </tr>\n",
       "        <tr>\n",
       "            <td>col    </td> <td>america                 </td>\n",
       "        </tr>\n",
       "        <tr>\n",
       "            <td>cod    </td> <td>sub_saharan_africa      </td>\n",
       "        </tr>\n",
       "        <tr>\n",
       "            <td>egy    </td> <td>middle_east_north_africa</td>\n",
       "        </tr>\n",
       "    </tbody>\n",
       "</table>\n",
       "<p>... (40 rows omitted)</p>"
      ],
      "text/plain": [
       "country | world_6region\n",
       "afg     | south_asia\n",
       "dza     | middle_east_north_africa\n",
       "arg     | america\n",
       "bgd     | south_asia\n",
       "bra     | america\n",
       "can     | america\n",
       "chn     | east_asia_pacific\n",
       "col     | america\n",
       "cod     | sub_saharan_africa\n",
       "egy     | middle_east_north_africa\n",
       "... (40 rows omitted)"
      ]
     },
     "execution_count": 44,
     "metadata": {},
     "output_type": "execute_result"
    }
   ],
   "source": [
    "regions=countries.where('country',are.contained_in(stats_for_year(1960).column('geo'))).select('country','world_6region')\n",
    "regions"
   ]
  },
  {
   "cell_type": "code",
   "execution_count": 45,
   "metadata": {},
   "outputs": [
    {
     "data": {
      "text/html": [
       "<table border=\"1\" class=\"dataframe\">\n",
       "    <thead>\n",
       "        <tr>\n",
       "            <th>world_6region</th> <th>count</th>\n",
       "        </tr>\n",
       "    </thead>\n",
       "    <tbody>\n",
       "        <tr>\n",
       "            <td>america                 </td> <td>8    </td>\n",
       "        </tr>\n",
       "        <tr>\n",
       "            <td>east_asia_pacific       </td> <td>10   </td>\n",
       "        </tr>\n",
       "        <tr>\n",
       "            <td>europe_central_asia     </td> <td>10   </td>\n",
       "        </tr>\n",
       "        <tr>\n",
       "            <td>middle_east_north_africa</td> <td>7    </td>\n",
       "        </tr>\n",
       "        <tr>\n",
       "            <td>south_asia              </td> <td>5    </td>\n",
       "        </tr>\n",
       "        <tr>\n",
       "            <td>sub_saharan_africa      </td> <td>10   </td>\n",
       "        </tr>\n",
       "    </tbody>\n",
       "</table>"
      ],
      "text/plain": [
       "world_6region            | count\n",
       "america                  | 8\n",
       "east_asia_pacific        | 10\n",
       "europe_central_asia      | 10\n",
       "middle_east_north_africa | 7\n",
       "south_asia               | 5\n",
       "sub_saharan_africa       | 10"
      ]
     },
     "execution_count": 45,
     "metadata": {},
     "output_type": "execute_result"
    }
   ],
   "source": [
    "regions1=regions.group('world_6region')\n",
    "regions1"
   ]
  },
  {
   "cell_type": "code",
   "execution_count": 46,
   "metadata": {},
   "outputs": [
    {
     "data": {
      "text/plain": [
       "array([ 8, 10, 10,  7,  5, 10])"
      ]
     },
     "execution_count": 46,
     "metadata": {},
     "output_type": "execute_result"
    }
   ],
   "source": [
    "regions1.column('count')"
   ]
  },
  {
   "cell_type": "code",
   "execution_count": 47,
   "metadata": {
    "deletable": false
   },
   "outputs": [
    {
     "data": {
      "text/html": [
       "<table border=\"1\" class=\"dataframe\">\n",
       "    <thead>\n",
       "        <tr>\n",
       "            <th>region</th> <th>count</th>\n",
       "        </tr>\n",
       "    </thead>\n",
       "    <tbody>\n",
       "        <tr>\n",
       "            <td>america                 </td> <td>8    </td>\n",
       "        </tr>\n",
       "        <tr>\n",
       "            <td>east_asia_pacific       </td> <td>10   </td>\n",
       "        </tr>\n",
       "        <tr>\n",
       "            <td>europe_central_asia     </td> <td>10   </td>\n",
       "        </tr>\n",
       "        <tr>\n",
       "            <td>middle_east_north_africa</td> <td>7    </td>\n",
       "        </tr>\n",
       "        <tr>\n",
       "            <td>south_asia              </td> <td>5    </td>\n",
       "        </tr>\n",
       "        <tr>\n",
       "            <td>sub_saharan_africa      </td> <td>10   </td>\n",
       "        </tr>\n",
       "    </tbody>\n",
       "</table>"
      ],
      "text/plain": [
       "region                   | count\n",
       "america                  | 8\n",
       "east_asia_pacific        | 10\n",
       "europe_central_asia      | 10\n",
       "middle_east_north_africa | 7\n",
       "south_asia               | 5\n",
       "sub_saharan_africa       | 10"
      ]
     },
     "execution_count": 47,
     "metadata": {},
     "output_type": "execute_result"
    }
   ],
   "source": [
    "region_counts = Table().with_columns('region',regions1.column('world_6region'),'count',regions1.column('count'))\n",
    "region_counts"
   ]
  },
  {
   "cell_type": "code",
   "execution_count": 48,
   "metadata": {
    "deletable": false,
    "editable": false
   },
   "outputs": [
    {
     "name": "stdout",
     "output_type": "stream",
     "text": [
      "~~~~~~~~~~~~~~~~~~~~~~~~~~~~~~~~~~~~~~~~~~~~~~~~~~~~~~~~~~~~~~~~~~~~~\n",
      "Running tests\n",
      "\n",
      "---------------------------------------------------------------------\n",
      "Test summary\n",
      "    Passed: 2\n",
      "    Failed: 0\n",
      "[ooooooooook] 100.0% passed\n",
      "\n"
     ]
    }
   ],
   "source": [
    "ok.grade(\"q1_13\");"
   ]
  },
  {
   "cell_type": "markdown",
   "metadata": {
    "deletable": false,
    "editable": false
   },
   "source": [
    "The following scatter diagram compares total fertility rate and child mortality rate for each country in 1960. The area of each dot represents the population of the country, and the color represents its region of the world. Run the cell. Do you think you can identify any of the dots?"
   ]
  },
  {
   "cell_type": "code",
   "execution_count": 49,
   "metadata": {
    "deletable": false
   },
   "outputs": [
    {
     "data": {
      "image/png": "[encoded data removed]",
      "text/plain": [
       "<Figure size 360x360 with 1 Axes>"
      ]
     },
     "metadata": {},
     "output_type": "display_data"
    }
   ],
   "source": [
    "from functools import lru_cache as cache\n",
    "\n",
    "# This cache annotation makes sure that if the same year\n",
    "# is passed as an argument twice, the work of computing\n",
    "# the result is only carried out once.\n",
    "@cache(None)\n",
    "def stats_relabeled(year):\n",
    "    \"\"\"Relabeled and cached version of stats_for_year.\"\"\"\n",
    "    return stats_for_year(year).relabel(2, 'Children per woman').relabel(3, 'Child deaths per 1000 born')\n",
    "\n",
    "def fertility_vs_child_mortality(year):\n",
    "    \"\"\"Draw a color scatter diagram comparing child mortality and fertility.\"\"\"\n",
    "    with_region = stats_relabeled(year).join('geo', countries.select('country', 'world_6region'), 'country')\n",
    "    with_region.scatter(2, 3, sizes=1, group=4, s=500)\n",
    "    plots.xlim(0,10)\n",
    "    plots.ylim(-50, 500)\n",
    "    plots.title(year)\n",
    "\n",
    "fertility_vs_child_mortality(1960)"
   ]
  },
  {
   "cell_type": "markdown",
   "metadata": {
    "deletable": false,
    "editable": false
   },
   "source": [
    "**Question 14.** Assign `scatter_statements` to an array of the numbers of each statement below that can be inferred from this scatter diagram for 1960. \n",
    "1. As a whole, the `europe_central_asia` region had the lowest child mortality rate.\n",
    "1. The lowest child mortality rate of any country was from an `east_asia_pacific` country.\n",
    "1. Most countries had a fertility rate above 5.\n",
    "1. There was an association between child mortality and fertility.\n",
    "1. The two largest countries by population also had the two highest child mortality rate.\n",
    "\n",
    "<!--\n",
    "BEGIN QUESTION\n",
    "name: q1_14\n",
    "-->"
   ]
  },
  {
   "cell_type": "code",
   "execution_count": 50,
   "metadata": {
    "deletable": false
   },
   "outputs": [],
   "source": [
    "scatter_statements =1,3,4"
   ]
  },
  {
   "cell_type": "code",
   "execution_count": 51,
   "metadata": {
    "deletable": false,
    "editable": false
   },
   "outputs": [
    {
     "name": "stdout",
     "output_type": "stream",
     "text": [
      "~~~~~~~~~~~~~~~~~~~~~~~~~~~~~~~~~~~~~~~~~~~~~~~~~~~~~~~~~~~~~~~~~~~~~\n",
      "Running tests\n",
      "\n",
      "---------------------------------------------------------------------\n",
      "Test summary\n",
      "    Passed: 1\n",
      "    Failed: 0\n",
      "[ooooooooook] 100.0% passed\n",
      "\n"
     ]
    }
   ],
   "source": [
    "ok.grade(\"q1_14\");"
   ]
  },
  {
   "cell_type": "markdown",
   "metadata": {
    "deletable": false
   },
   "source": [
    "The result of the cell below is interactive. Drag the slider to the right to see how countries have changed over time. You'll find that the great divide between so-called \"Western\" and \"developing\" countries that existed in the 1960's has nearly disappeared. This shift in fertility rates is the reason that the global population is expected to grow more slowly in the 21st century than it did in the 19th and 20th centuries.\n",
    "\n",
    "**Note:** Don't worry if a red warning pops up when running the cell below. You'll still be able to run the cell!"
   ]
  },
  {
   "cell_type": "code",
   "execution_count": 52,
   "metadata": {
    "deletable": false,
    "scrolled": false
   },
   "outputs": [
    {
     "name": "stderr",
     "output_type": "stream",
     "text": [
      "/srv/app/venv/lib/python3.6/site-packages/datascience/tables.py:193: FutureWarning: Implicit column method lookup is deprecated.\n",
      "  warnings.warn(\"Implicit column method lookup is deprecated.\", FutureWarning)\n"
     ]
    },
    {
     "data": {
      "application/vnd.jupyter.widget-view+json": {
       "model_id": "9c06ebdb393d417fae7c3fc50a34fdc7",
       "version_major": 2,
       "version_minor": 0
      },
      "text/plain": [
       "interactive(children=(IntSlider(value=1960, description='year', max=2015, min=1960), Output()), _dom_classes=(…"
      ]
     },
     "metadata": {},
     "output_type": "display_data"
    }
   ],
   "source": [
    "import ipywidgets as widgets\n",
    "\n",
    "# This part takes a few minutes to run because it \n",
    "# computes 55 tables in advance: one for each year.\n",
    "Table().with_column('Year', np.arange(1960, 2016)).apply(stats_relabeled, 'Year')\n",
    "\n",
    "_ = widgets.interact(fertility_vs_child_mortality, \n",
    "                     year=widgets.IntSlider(min=1960, max=2015, value=1960))"
   ]
  },
  {
   "cell_type": "markdown",
   "metadata": {
    "deletable": false,
    "editable": false
   },
   "source": [
    "Now is a great time to take a break and watch the same data presented by [Hans Rosling in a 2010 TEDx talk](https://www.gapminder.org/videos/reducing-child-mortality-a-moral-and-environmental-imperative) with smoother animation and witty commentary."
   ]
  },
  {
   "cell_type": "markdown",
   "metadata": {
    "deletable": false,
    "editable": false
   },
   "source": [
    "## 2. Global Poverty\n"
   ]
  },
  {
   "cell_type": "markdown",
   "metadata": {
    "deletable": false,
    "editable": false
   },
   "source": [
    "In 1800, 85% of the world's 1 billion people lived in *extreme poverty*, defined by the United Nations as \"a condition characterized by severe deprivation of basic human needs, including food, safe drinking water, sanitation facilities, health, shelter, education and information.\" A common measure of extreme poverty is a person living on less than \\$1.25 per day.\n",
    "\n",
    "In 2018, the proportion of people living in extreme poverty was estimated to be 8%. Although the world rate of extreme poverty has declined consistently for hundreds of years, the number of people living in extreme poverty is still over 600 million. The United Nations recently adopted an [ambitious goal](http://www.un.org/sustainabledevelopment/poverty/): \"By 2030, eradicate extreme poverty for all people everywhere.\"\n",
    "In this section, we will examine extreme poverty trends around the world."
   ]
  },
  {
   "cell_type": "markdown",
   "metadata": {
    "deletable": false,
    "editable": false
   },
   "source": [
    "First, load the population and poverty rate by country and year and the country descriptions. While the `population` table has values for every recent year for many countries, the `poverty` table only includes certain years for each country in which a measurement of the rate of extreme poverty was available."
   ]
  },
  {
   "cell_type": "code",
   "execution_count": 53,
   "metadata": {},
   "outputs": [
    {
     "data": {
      "text/html": [
       "<table border=\"1\" class=\"dataframe\">\n",
       "    <thead>\n",
       "        <tr>\n",
       "            <th>geo</th> <th>time</th> <th>extreme_poverty_percent_people_below_125_a_day</th>\n",
       "        </tr>\n",
       "    </thead>\n",
       "    <tbody>\n",
       "        <tr>\n",
       "            <td>alb </td> <td>1996</td> <td>0.2                                           </td>\n",
       "        </tr>\n",
       "        <tr>\n",
       "            <td>alb </td> <td>2002</td> <td>0.73                                          </td>\n",
       "        </tr>\n",
       "        <tr>\n",
       "            <td>alb </td> <td>2004</td> <td>0.53                                          </td>\n",
       "        </tr>\n",
       "    </tbody>\n",
       "</table>\n",
       "<p>... (1096 rows omitted)</p>"
      ],
      "text/plain": [
       "<IPython.core.display.HTML object>"
      ]
     },
     "metadata": {},
     "output_type": "display_data"
    }
   ],
   "source": [
    "population = Table.read_table('population.csv')\n",
    "countries = Table.read_table('countries.csv').where('country', are.contained_in(population.group('geo').column('geo')))\n",
    "poverty = Table.read_table('poverty.csv')\n",
    "poverty.show(3)"
   ]
  },
  {
   "cell_type": "markdown",
   "metadata": {
    "deletable": false,
    "editable": false
   },
   "source": [
    "**Question 1.** Assign `latest_poverty` to a three-column table with one row for each country that appears in the `poverty` table. The first column should contain the 3-letter code for the country. The second column should contain the most recent year for which an extreme poverty rate is available for the country. The third column should contain the poverty rate in that year. **Do not change the last line, so that the labels of your table are set correctly.**\n",
    "\n",
    "*Hint*: think about how ```group``` works: it does a sequential search of the table (from top to bottom) and collects values in the array in the order in which they appear, and then applies a function to that array. The `first` function may be helpful, but you are not required to use it.\n",
    "\n",
    "<!--\n",
    "BEGIN QUESTION\n",
    "name: q2_1\n",
    "-->"
   ]
  },
  {
   "cell_type": "code",
   "execution_count": 54,
   "metadata": {},
   "outputs": [
    {
     "data": {
      "text/html": [
       "<table border=\"1\" class=\"dataframe\">\n",
       "    <thead>\n",
       "        <tr>\n",
       "            <th>geo</th> <th>time</th> <th>extreme_poverty_percent_people_below_125_a_day</th>\n",
       "        </tr>\n",
       "    </thead>\n",
       "    <tbody>\n",
       "        <tr>\n",
       "            <td>alb </td> <td>1996</td> <td>0.2                                           </td>\n",
       "        </tr>\n",
       "        <tr>\n",
       "            <td>alb </td> <td>2002</td> <td>0.73                                          </td>\n",
       "        </tr>\n",
       "        <tr>\n",
       "            <td>alb </td> <td>2004</td> <td>0.53                                          </td>\n",
       "        </tr>\n",
       "        <tr>\n",
       "            <td>alb </td> <td>2005</td> <td>0.44                                          </td>\n",
       "        </tr>\n",
       "        <tr>\n",
       "            <td>alb </td> <td>2008</td> <td>0.2                                           </td>\n",
       "        </tr>\n",
       "        <tr>\n",
       "            <td>alb </td> <td>2012</td> <td>0.46                                          </td>\n",
       "        </tr>\n",
       "        <tr>\n",
       "            <td>dza </td> <td>1988</td> <td>7.1                                           </td>\n",
       "        </tr>\n",
       "        <tr>\n",
       "            <td>dza </td> <td>1995</td> <td>6.38                                          </td>\n",
       "        </tr>\n",
       "        <tr>\n",
       "            <td>ago </td> <td>2000</td> <td>54.31                                         </td>\n",
       "        </tr>\n",
       "        <tr>\n",
       "            <td>ago </td> <td>2009</td> <td>43.37                                         </td>\n",
       "        </tr>\n",
       "    </tbody>\n",
       "</table>\n",
       "<p>... (1089 rows omitted)</p>"
      ],
      "text/plain": [
       "<IPython.core.display.HTML object>"
      ]
     },
     "metadata": {},
     "output_type": "display_data"
    }
   ],
   "source": [
    "poverty.show(10)"
   ]
  },
  {
   "cell_type": "code",
   "execution_count": 55,
   "metadata": {},
   "outputs": [
    {
     "data": {
      "text/html": [
       "<table border=\"1\" class=\"dataframe\">\n",
       "    <thead>\n",
       "        <tr>\n",
       "            <th>geo</th> <th>time</th> <th>extreme_poverty_percent_people_below_125_a_day</th>\n",
       "        </tr>\n",
       "    </thead>\n",
       "    <tbody>\n",
       "        <tr>\n",
       "            <td>alb </td> <td>2012</td> <td>0.46                                          </td>\n",
       "        </tr>\n",
       "        <tr>\n",
       "            <td>alb </td> <td>2008</td> <td>0.2                                           </td>\n",
       "        </tr>\n",
       "        <tr>\n",
       "            <td>alb </td> <td>2005</td> <td>0.44                                          </td>\n",
       "        </tr>\n",
       "        <tr>\n",
       "            <td>alb </td> <td>2004</td> <td>0.53                                          </td>\n",
       "        </tr>\n",
       "        <tr>\n",
       "            <td>alb </td> <td>2002</td> <td>0.73                                          </td>\n",
       "        </tr>\n",
       "        <tr>\n",
       "            <td>alb </td> <td>1996</td> <td>0.2                                           </td>\n",
       "        </tr>\n",
       "    </tbody>\n",
       "</table>"
      ],
      "text/plain": [
       "geo  | time | extreme_poverty_percent_people_below_125_a_day\n",
       "alb  | 2012 | 0.46\n",
       "alb  | 2008 | 0.2\n",
       "alb  | 2005 | 0.44\n",
       "alb  | 2004 | 0.53\n",
       "alb  | 2002 | 0.73\n",
       "alb  | 1996 | 0.2"
      ]
     },
     "execution_count": 55,
     "metadata": {},
     "output_type": "execute_result"
    }
   ],
   "source": [
    "poverty.where('geo',are.equal_to('alb')).sort('time',descending=True)"
   ]
  },
  {
   "cell_type": "code",
   "execution_count": 56,
   "metadata": {},
   "outputs": [],
   "source": [
    "def place(place):\n",
    "    return poverty.where('geo',are.equal_to(place)).sort('time',descending=True).column(2).item(0)"
   ]
  },
  {
   "cell_type": "code",
   "execution_count": 57,
   "metadata": {},
   "outputs": [
    {
     "data": {
      "text/plain": [
       "0.46"
      ]
     },
     "execution_count": 57,
     "metadata": {},
     "output_type": "execute_result"
    }
   ],
   "source": [
    "place('alb')"
   ]
  },
  {
   "cell_type": "code",
   "execution_count": 58,
   "metadata": {},
   "outputs": [
    {
     "data": {
      "text/html": [
       "<table border=\"1\" class=\"dataframe\">\n",
       "    <thead>\n",
       "        <tr>\n",
       "            <th>geo</th> <th>count</th>\n",
       "        </tr>\n",
       "    </thead>\n",
       "    <tbody>\n",
       "        <tr>\n",
       "            <td>ago </td> <td>2    </td>\n",
       "        </tr>\n",
       "        <tr>\n",
       "            <td>alb </td> <td>6    </td>\n",
       "        </tr>\n",
       "        <tr>\n",
       "            <td>arg </td> <td>23   </td>\n",
       "        </tr>\n",
       "        <tr>\n",
       "            <td>arm </td> <td>14   </td>\n",
       "        </tr>\n",
       "        <tr>\n",
       "            <td>aus </td> <td>6    </td>\n",
       "        </tr>\n",
       "        <tr>\n",
       "            <td>aut </td> <td>6    </td>\n",
       "        </tr>\n",
       "        <tr>\n",
       "            <td>aze </td> <td>7    </td>\n",
       "        </tr>\n",
       "        <tr>\n",
       "            <td>bdi </td> <td>3    </td>\n",
       "        </tr>\n",
       "        <tr>\n",
       "            <td>bel </td> <td>6    </td>\n",
       "        </tr>\n",
       "        <tr>\n",
       "            <td>ben </td> <td>2    </td>\n",
       "        </tr>\n",
       "    </tbody>\n",
       "</table>\n",
       "<p>... (135 rows omitted)</p>"
      ],
      "text/plain": [
       "geo  | count\n",
       "ago  | 2\n",
       "alb  | 6\n",
       "arg  | 23\n",
       "arm  | 14\n",
       "aus  | 6\n",
       "aut  | 6\n",
       "aze  | 7\n",
       "bdi  | 3\n",
       "bel  | 6\n",
       "ben  | 2\n",
       "... (135 rows omitted)"
      ]
     },
     "execution_count": 58,
     "metadata": {},
     "output_type": "execute_result"
    }
   ],
   "source": [
    "poverty.group('geo')"
   ]
  },
  {
   "cell_type": "code",
   "execution_count": 59,
   "metadata": {},
   "outputs": [
    {
     "data": {
      "text/plain": [
       "array([4.337e+01, 4.600e-01, 1.410e+00, 1.750e+00, 1.360e+00, 3.400e-01,\n",
       "       3.100e-01, 8.132e+01, 5.000e-01, 5.161e+01, 4.446e+01, 4.325e+01,\n",
       "       1.900e+00, 4.000e-02, 0.000e+00, 1.221e+01, 7.980e+00, 3.750e+00,\n",
       "       2.380e+00, 1.341e+01, 6.283e+01, 3.400e-01, 6.700e-01, 8.300e-01,\n",
       "       6.260e+00, 3.504e+01, 2.761e+01, 8.772e+01, 3.282e+01, 5.630e+00,\n",
       "       4.611e+01, 1.372e+01, 1.350e+00, 3.000e-02, 3.400e-01, 1.883e+01,\n",
       "       6.700e-01, 2.250e+00, 6.380e+00, 3.950e+00, 1.680e+00, 2.340e+00,\n",
       "       9.800e-01, 3.679e+01, 0.000e+00, 5.880e+00, 3.300e-01, 3.115e+01,\n",
       "       6.090e+00, 1.010e+00, 1.414e+01, 2.859e+01, 4.087e+01, 3.363e+01,\n",
       "       4.890e+01, 1.370e+00, 1.370e+01, 8.700e+00, 1.648e+01, 0.000e+00,\n",
       "       6.171e+01, 5.000e-02, 1.620e+01, 2.363e+01, 3.600e-01, 1.450e+00,\n",
       "       3.910e+00, 3.900e-01, 1.350e+00, 2.400e-01, 8.000e-02, 3.500e-01,\n",
       "       6.000e-02, 4.337e+01, 5.110e+00, 1.005e+01, 3.026e+01, 8.376e+01,\n",
       "       2.096e+01, 4.110e+00, 5.622e+01, 8.300e-01, 1.070e+00, 2.570e+00,\n",
       "       2.300e-01, 8.767e+01, 1.480e+00, 1.030e+00, 2.800e-01, 5.061e+01,\n",
       "       2.100e-01, 6.071e+01, 2.343e+01, 7.216e+01, 0.000e+00, 2.354e+01,\n",
       "       4.081e+01, 6.203e+01, 8.540e+00, 3.500e-01, 6.700e-01, 2.374e+01,\n",
       "       1.274e+01, 3.990e+00, 2.890e+00, 1.896e+01, 3.579e+01, 0.000e+00,\n",
       "       3.030e+00, 8.000e-02, 0.000e+00, 3.000e-02, 6.302e+01, 1.980e+01,\n",
       "       3.406e+01, 5.663e+01, 2.530e+00, 5.000e-02, 4.353e+01, 1.554e+01,\n",
       "       3.000e-01, 0.000e+00, 3.500e-01, 3.930e+01, 2.500e-01, 1.710e+00,\n",
       "       3.652e+01, 5.246e+01, 3.100e-01, 6.470e+00, 2.482e+01, 3.487e+01,\n",
       "       4.160e+00, 7.400e-01, 8.000e-02, 4.348e+01, 3.778e+01, 0.000e+00,\n",
       "       3.100e-01, 1.670e+00, 6.630e+00, 2.440e+00, 9.780e+00, 9.420e+00,\n",
       "       7.432e+01])"
      ]
     },
     "execution_count": 59,
     "metadata": {},
     "output_type": "execute_result"
    }
   ],
   "source": [
    "poverty.group('geo').apply(place,'geo')"
   ]
  },
  {
   "cell_type": "code",
   "execution_count": 60,
   "metadata": {},
   "outputs": [
    {
     "data": {
      "text/plain": [
       "array(['ago', 'alb', 'arg', 'arm', 'aus', 'aut', 'aze', 'bdi', 'bel',\n",
       "       'ben', 'bfa', 'bgd', 'bgr', 'bih', 'blr', 'blz', 'bol', 'bra',\n",
       "       'btn', 'bwa', 'caf', 'can', 'che', 'chl', 'chn', 'civ', 'cmr',\n",
       "       'cod', 'cog', 'col', 'com', 'cpv', 'cri', 'cze', 'deu', 'dji',\n",
       "       'dnk', 'dom', 'dza', 'ecu', 'egy', 'esp', 'est', 'eth', 'fin',\n",
       "       'fji', 'fra', 'fsm', 'gab', 'gbr', 'geo', 'gha', 'gin', 'gmb',\n",
       "       'gnb', 'grc', 'gtm', 'guy', 'hnd', 'hrv', 'hti', 'hun', 'idn',\n",
       "       'ind', 'irl', 'irn', 'irq', 'isr', 'ita', 'jam', 'jor', 'jpn',\n",
       "       'kaz', 'ken', 'kgz', 'khm', 'lao', 'lbr', 'lca', 'lka', 'lso',\n",
       "       'ltu', 'lva', 'mar', 'mda', 'mdg', 'mdv', 'mex', 'mkd', 'mli',\n",
       "       'mne', 'moz', 'mrt', 'mwi', 'mys', 'nam', 'ner', 'nga', 'nic',\n",
       "       'nld', 'nor', 'npl', 'pak', 'pan', 'per', 'phl', 'png', 'pol',\n",
       "       'pry', 'pse', 'rou', 'rus', 'rwa', 'sdn', 'sen', 'sle', 'slv',\n",
       "       'srb', 'stp', 'sur', 'svk', 'svn', 'swe', 'swz', 'syc', 'syr',\n",
       "       'tcd', 'tgo', 'tha', 'tjk', 'tkm', 'tls', 'tto', 'tun', 'tur',\n",
       "       'tza', 'uga', 'ukr', 'ury', 'usa', 'ven', 'vnm', 'yem', 'zaf',\n",
       "       'zmb'], dtype='<U3')"
      ]
     },
     "execution_count": 60,
     "metadata": {},
     "output_type": "execute_result"
    }
   ],
   "source": [
    "poverty.group('geo').column('geo')"
   ]
  },
  {
   "cell_type": "code",
   "execution_count": 61,
   "metadata": {},
   "outputs": [
    {
     "data": {
      "text/html": [
       "<table border=\"1\" class=\"dataframe\">\n",
       "    <thead>\n",
       "        <tr>\n",
       "            <th>geo</th> <th>time max</th> <th>extreme_poverty_percent_people_below_125_a_day max</th>\n",
       "        </tr>\n",
       "    </thead>\n",
       "    <tbody>\n",
       "        <tr>\n",
       "            <td>ago </td> <td>2009    </td> <td>54.31                                             </td>\n",
       "        </tr>\n",
       "        <tr>\n",
       "            <td>alb </td> <td>2012    </td> <td>0.73                                              </td>\n",
       "        </tr>\n",
       "        <tr>\n",
       "            <td>arg </td> <td>2011    </td> <td>12.58                                             </td>\n",
       "        </tr>\n",
       "        <tr>\n",
       "            <td>arm </td> <td>2012    </td> <td>18.83                                             </td>\n",
       "        </tr>\n",
       "        <tr>\n",
       "            <td>aus </td> <td>2003    </td> <td>1.36                                              </td>\n",
       "        </tr>\n",
       "        <tr>\n",
       "            <td>aut </td> <td>2004    </td> <td>1                                                 </td>\n",
       "        </tr>\n",
       "        <tr>\n",
       "            <td>aze </td> <td>2008    </td> <td>25.23                                             </td>\n",
       "        </tr>\n",
       "        <tr>\n",
       "            <td>bdi </td> <td>2006    </td> <td>86.43                                             </td>\n",
       "        </tr>\n",
       "        <tr>\n",
       "            <td>bel </td> <td>2000    </td> <td>0.83                                              </td>\n",
       "        </tr>\n",
       "        <tr>\n",
       "            <td>ben </td> <td>2012    </td> <td>51.61                                             </td>\n",
       "        </tr>\n",
       "    </tbody>\n",
       "</table>\n",
       "<p>... (135 rows omitted)</p>"
      ],
      "text/plain": [
       "geo  | time max | extreme_poverty_percent_people_below_125_a_day max\n",
       "ago  | 2009     | 54.31\n",
       "alb  | 2012     | 0.73\n",
       "arg  | 2011     | 12.58\n",
       "arm  | 2012     | 18.83\n",
       "aus  | 2003     | 1.36\n",
       "aut  | 2004     | 1\n",
       "aze  | 2008     | 25.23\n",
       "bdi  | 2006     | 86.43\n",
       "bel  | 2000     | 0.83\n",
       "ben  | 2012     | 51.61\n",
       "... (135 rows omitted)"
      ]
     },
     "execution_count": 61,
     "metadata": {},
     "output_type": "execute_result"
    }
   ],
   "source": [
    "poverty.group('geo',max)"
   ]
  },
  {
   "cell_type": "code",
   "execution_count": 62,
   "metadata": {
    "deletable": false
   },
   "outputs": [
    {
     "data": {
      "text/html": [
       "<table border=\"1\" class=\"dataframe\">\n",
       "    <thead>\n",
       "        <tr>\n",
       "            <th>geo</th> <th>time</th> <th>poverty_percent</th>\n",
       "        </tr>\n",
       "    </thead>\n",
       "    <tbody>\n",
       "        <tr>\n",
       "            <td>ago </td> <td>2009</td> <td>43.37          </td>\n",
       "        </tr>\n",
       "        <tr>\n",
       "            <td>alb </td> <td>2012</td> <td>0.46           </td>\n",
       "        </tr>\n",
       "        <tr>\n",
       "            <td>arg </td> <td>2011</td> <td>1.41           </td>\n",
       "        </tr>\n",
       "        <tr>\n",
       "            <td>arm </td> <td>2012</td> <td>1.75           </td>\n",
       "        </tr>\n",
       "        <tr>\n",
       "            <td>aus </td> <td>2003</td> <td>1.36           </td>\n",
       "        </tr>\n",
       "        <tr>\n",
       "            <td>aut </td> <td>2004</td> <td>0.34           </td>\n",
       "        </tr>\n",
       "        <tr>\n",
       "            <td>aze </td> <td>2008</td> <td>0.31           </td>\n",
       "        </tr>\n",
       "        <tr>\n",
       "            <td>bdi </td> <td>2006</td> <td>81.32          </td>\n",
       "        </tr>\n",
       "        <tr>\n",
       "            <td>bel </td> <td>2000</td> <td>0.5            </td>\n",
       "        </tr>\n",
       "        <tr>\n",
       "            <td>ben </td> <td>2012</td> <td>51.61          </td>\n",
       "        </tr>\n",
       "    </tbody>\n",
       "</table>\n",
       "<p>... (135 rows omitted)</p>"
      ],
      "text/plain": [
       "geo  | time | poverty_percent\n",
       "ago  | 2009 | 43.37\n",
       "alb  | 2012 | 0.46\n",
       "arg  | 2011 | 1.41\n",
       "arm  | 2012 | 1.75\n",
       "aus  | 2003 | 1.36\n",
       "aut  | 2004 | 0.34\n",
       "aze  | 2008 | 0.31\n",
       "bdi  | 2006 | 81.32\n",
       "bel  | 2000 | 0.5\n",
       "ben  | 2012 | 51.61\n",
       "... (135 rows omitted)"
      ]
     },
     "execution_count": 62,
     "metadata": {},
     "output_type": "execute_result"
    }
   ],
   "source": [
    "def first(values):\n",
    "    return values.item(0)\n",
    "\n",
    "latest_poverty = Table().with_columns('geo',poverty.group('geo').column('geo'),'time',poverty.group('geo',max).column('time max'),'percent',poverty.group('geo').apply(place,'geo'))\n",
    "latest_poverty = latest_poverty.relabeled(0, 'geo').relabeled(1, 'time').relabeled(2, 'poverty_percent') # You should *not* change this line.\n",
    "latest_poverty"
   ]
  },
  {
   "cell_type": "code",
   "execution_count": 63,
   "metadata": {
    "deletable": false,
    "editable": false
   },
   "outputs": [
    {
     "name": "stdout",
     "output_type": "stream",
     "text": [
      "~~~~~~~~~~~~~~~~~~~~~~~~~~~~~~~~~~~~~~~~~~~~~~~~~~~~~~~~~~~~~~~~~~~~~\n",
      "Running tests\n",
      "\n",
      "---------------------------------------------------------------------\n",
      "Test summary\n",
      "    Passed: 2\n",
      "    Failed: 0\n",
      "[ooooooooook] 100.0% passed\n",
      "\n"
     ]
    }
   ],
   "source": [
    "ok.grade(\"q2_1\");"
   ]
  },
  {
   "cell_type": "markdown",
   "metadata": {
    "deletable": false,
    "editable": false
   },
   "source": [
    "**Question 2.** Using both `latest_poverty` and `population`, create a four-column table called `recent_poverty_total` with one row for each country in `latest_poverty`. The four columns should have the following labels and contents:\n",
    "1. `geo` contains the 3-letter country code,\n",
    "1. `poverty_percent` contains the most recent poverty percent,\n",
    "1. `population_total` contains the population of the country in 2010,\n",
    "1. `poverty_total` contains the number of people in poverty **rounded to the nearest integer**, based on the 2010 population and most recent poverty rate.\n",
    "\n",
    "<!--\n",
    "BEGIN QUESTION\n",
    "name: q2_2\n",
    "-->"
   ]
  },
  {
   "cell_type": "code",
   "execution_count": 64,
   "metadata": {},
   "outputs": [
    {
     "data": {
      "text/html": [
       "<table border=\"1\" class=\"dataframe\">\n",
       "    <thead>\n",
       "        <tr>\n",
       "            <th>geo</th> <th>time</th> <th>population_total</th>\n",
       "        </tr>\n",
       "    </thead>\n",
       "    <tbody>\n",
       "        <tr>\n",
       "            <td>ago </td> <td>2010</td> <td>21219954        </td>\n",
       "        </tr>\n",
       "        <tr>\n",
       "            <td>alb </td> <td>2010</td> <td>2901883         </td>\n",
       "        </tr>\n",
       "        <tr>\n",
       "            <td>arg </td> <td>2010</td> <td>41222875        </td>\n",
       "        </tr>\n",
       "        <tr>\n",
       "            <td>arm </td> <td>2010</td> <td>2963496         </td>\n",
       "        </tr>\n",
       "        <tr>\n",
       "            <td>aus </td> <td>2010</td> <td>22162863        </td>\n",
       "        </tr>\n",
       "        <tr>\n",
       "            <td>aut </td> <td>2010</td> <td>8391986         </td>\n",
       "        </tr>\n",
       "        <tr>\n",
       "            <td>aze </td> <td>2010</td> <td>9099893         </td>\n",
       "        </tr>\n",
       "        <tr>\n",
       "            <td>bdi </td> <td>2010</td> <td>9461117         </td>\n",
       "        </tr>\n",
       "        <tr>\n",
       "            <td>bel </td> <td>2010</td> <td>10929978        </td>\n",
       "        </tr>\n",
       "        <tr>\n",
       "            <td>ben </td> <td>2010</td> <td>9509798         </td>\n",
       "        </tr>\n",
       "    </tbody>\n",
       "</table>\n",
       "<p>... (135 rows omitted)</p>"
      ],
      "text/plain": [
       "geo  | time | population_total\n",
       "ago  | 2010 | 21219954\n",
       "alb  | 2010 | 2901883\n",
       "arg  | 2010 | 41222875\n",
       "arm  | 2010 | 2963496\n",
       "aus  | 2010 | 22162863\n",
       "aut  | 2010 | 8391986\n",
       "aze  | 2010 | 9099893\n",
       "bdi  | 2010 | 9461117\n",
       "bel  | 2010 | 10929978\n",
       "ben  | 2010 | 9509798\n",
       "... (135 rows omitted)"
      ]
     },
     "execution_count": 64,
     "metadata": {},
     "output_type": "execute_result"
    }
   ],
   "source": [
    "POP=population.where('time',are.equal_to(2010)).where('geo',are.contained_in(latest_poverty.column('geo')))\n",
    "POP"
   ]
  },
  {
   "cell_type": "code",
   "execution_count": 65,
   "metadata": {},
   "outputs": [
    {
     "data": {
      "text/plain": [
       "array([9.20309405e+06, 1.33486618e+04, 5.81242537e+05, 5.18611800e+04,\n",
       "       3.01414937e+05, 2.85327524e+04, 2.82096683e+04, 7.69378034e+06,\n",
       "       5.46498900e+04, 4.90800675e+06, 6.95001654e+06, 6.55742561e+07,\n",
       "       1.40738643e+05, 1.53410320e+03, 0.00000000e+00, 3.92684589e+04,\n",
       "       7.91475951e+05, 7.44803280e+06, 1.71418548e+04, 2.74614137e+05,\n",
       "       2.79277654e+06, 1.16028988e+05, 5.24645778e+04, 1.41224898e+05,\n",
       "       8.39446429e+07, 7.05415013e+06, 5.68508288e+06, 5.78414382e+07,\n",
       "       1.33448680e+06, 2.58518909e+06, 3.22168264e+05, 6.72799988e+04,\n",
       "       6.13611855e+04, 3.15198510e+03, 2.73480044e+05, 1.56440017e+05,\n",
       "       3.71914253e+04, 2.22704617e+05, 2.29910694e+06, 5.89920334e+05,\n",
       "       1.37828870e+06, 1.09047491e+06, 1.30544722e+04, 3.22139914e+07,\n",
       "       0.00000000e+00, 5.05651776e+04, 2.07771749e+05, 3.22773185e+04,\n",
       "       9.39039024e+04, 6.33438508e+05, 6.00968665e+05, 6.95244015e+06,\n",
       "       4.50077033e+06, 5.69356573e+05, 7.99121844e+05, 1.53131873e+05,\n",
       "       2.01831976e+06, 6.55424940e+04, 1.23663860e+06, 0.00000000e+00,\n",
       "       6.17076365e+06, 5.00731650e+03, 3.91413264e+07, 2.90881638e+08,\n",
       "       1.66224024e+04, 1.07667391e+06, 1.20694490e+06, 2.89394352e+04,\n",
       "       8.04438095e+05, 6.57900720e+03, 5.21432960e+03, 4.45619307e+05,\n",
       "       9.78637440e+03, 1.74903893e+07, 2.79239374e+05, 1.44354039e+06,\n",
       "       1.89444061e+06, 3.31521242e+06, 3.71824112e+04, 8.30273923e+05,\n",
       "       1.13035145e+06, 2.59195305e+04, 2.23685533e+04, 8.25168892e+05,\n",
       "       9.39431090e+03, 1.84804257e+07, 4.92211000e+03, 1.22176068e+06,\n",
       "       5.77484040e+03, 7.67616344e+06, 1.30609920e+03, 1.47655565e+07,\n",
       "       8.41465020e+05, 1.06579050e+07, 0.00000000e+00, 5.16383562e+05,\n",
       "       6.64876112e+06, 9.88911675e+07, 4.90001459e+05, 5.82104985e+04,\n",
       "       3.27713817e+04, 6.38034103e+06, 2.16635952e+07, 1.44458189e+05,\n",
       "       8.48898312e+05, 1.76401758e+07, 2.45072633e+06, 0.00000000e+00,\n",
       "       1.88159273e+05, 3.25502400e+03, 0.00000000e+00, 4.29474297e+04,\n",
       "       6.48707020e+06, 7.15074723e+06, 4.41308301e+06, 3.27089330e+06,\n",
       "       1.52769142e+05, 4.52952300e+03, 7.43840640e+04, 8.05191114e+04,\n",
       "       1.62206880e+04, 0.00000000e+00, 3.28380395e+04, 4.68907164e+05,\n",
       "       2.32702500e+02, 3.54322294e+05, 4.34455798e+06, 3.35264043e+06,\n",
       "       2.06745274e+05, 4.90535731e+05, 1.25142316e+06, 3.68618441e+05,\n",
       "       5.52487520e+04, 7.87300356e+04, 5.78483328e+04, 1.98479787e+07,\n",
       "       1.25238497e+07, 0.00000000e+00, 1.04606834e+04, 5.17493204e+06,\n",
       "       1.92241789e+06, 2.15592971e+06, 2.30729486e+06, 4.86275415e+06,\n",
       "       1.03434407e+07])"
      ]
     },
     "execution_count": 65,
     "metadata": {},
     "output_type": "execute_result"
    }
   ],
   "source": [
    "POP.column('population_total')*(latest_poverty.column('poverty_percent')/100)\n"
   ]
  },
  {
   "cell_type": "code",
   "execution_count": 66,
   "metadata": {},
   "outputs": [
    {
     "data": {
      "text/plain": [
       "array([9.20309400e+06, 1.33490000e+04, 5.81243000e+05, 5.18610000e+04,\n",
       "       3.01415000e+05, 2.85330000e+04, 2.82100000e+04, 7.69378000e+06,\n",
       "       5.46500000e+04, 4.90800700e+06, 6.95001700e+06, 6.55742560e+07,\n",
       "       1.40739000e+05, 1.53400000e+03, 0.00000000e+00, 3.92680000e+04,\n",
       "       7.91476000e+05, 7.44803300e+06, 1.71420000e+04, 2.74614000e+05,\n",
       "       2.79277700e+06, 1.16029000e+05, 5.24650000e+04, 1.41225000e+05,\n",
       "       8.39446430e+07, 7.05415000e+06, 5.68508300e+06, 5.78414380e+07,\n",
       "       1.33448700e+06, 2.58518900e+06, 3.22168000e+05, 6.72800000e+04,\n",
       "       6.13610000e+04, 3.15200000e+03, 2.73480000e+05, 1.56440000e+05,\n",
       "       3.71910000e+04, 2.22705000e+05, 2.29910700e+06, 5.89920000e+05,\n",
       "       1.37828900e+06, 1.09047500e+06, 1.30540000e+04, 3.22139910e+07,\n",
       "       0.00000000e+00, 5.05650000e+04, 2.07772000e+05, 3.22770000e+04,\n",
       "       9.39040000e+04, 6.33439000e+05, 6.00969000e+05, 6.95244000e+06,\n",
       "       4.50077000e+06, 5.69357000e+05, 7.99122000e+05, 1.53132000e+05,\n",
       "       2.01832000e+06, 6.55420000e+04, 1.23663900e+06, 0.00000000e+00,\n",
       "       6.17076400e+06, 5.00700000e+03, 3.91413260e+07, 2.90881638e+08,\n",
       "       1.66220000e+04, 1.07667400e+06, 1.20694500e+06, 2.89390000e+04,\n",
       "       8.04438000e+05, 6.57900000e+03, 5.21400000e+03, 4.45619000e+05,\n",
       "       9.78600000e+03, 1.74903890e+07, 2.79239000e+05, 1.44354000e+06,\n",
       "       1.89444100e+06, 3.31521200e+06, 3.71820000e+04, 8.30274000e+05,\n",
       "       1.13035100e+06, 2.59200000e+04, 2.23690000e+04, 8.25169000e+05,\n",
       "       9.39400000e+03, 1.84804260e+07, 4.92200000e+03, 1.22176100e+06,\n",
       "       5.77500000e+03, 7.67616300e+06, 1.30600000e+03, 1.47655570e+07,\n",
       "       8.41465000e+05, 1.06579050e+07, 0.00000000e+00, 5.16384000e+05,\n",
       "       6.64876100e+06, 9.88911670e+07, 4.90001000e+05, 5.82100000e+04,\n",
       "       3.27710000e+04, 6.38034100e+06, 2.16635950e+07, 1.44458000e+05,\n",
       "       8.48898000e+05, 1.76401760e+07, 2.45072600e+06, 0.00000000e+00,\n",
       "       1.88159000e+05, 3.25500000e+03, 0.00000000e+00, 4.29470000e+04,\n",
       "       6.48707000e+06, 7.15074700e+06, 4.41308300e+06, 3.27089300e+06,\n",
       "       1.52769000e+05, 4.53000000e+03, 7.43840000e+04, 8.05190000e+04,\n",
       "       1.62210000e+04, 0.00000000e+00, 3.28380000e+04, 4.68907000e+05,\n",
       "       2.33000000e+02, 3.54322000e+05, 4.34455800e+06, 3.35264000e+06,\n",
       "       2.06745000e+05, 4.90536000e+05, 1.25142300e+06, 3.68618000e+05,\n",
       "       5.52490000e+04, 7.87300000e+04, 5.78480000e+04, 1.98479790e+07,\n",
       "       1.25238500e+07, 0.00000000e+00, 1.04610000e+04, 5.17493200e+06,\n",
       "       1.92241800e+06, 2.15593000e+06, 2.30729500e+06, 4.86275400e+06,\n",
       "       1.03434410e+07])"
      ]
     },
     "execution_count": 66,
     "metadata": {},
     "output_type": "execute_result"
    }
   ],
   "source": [
    "np.round(POP.column('population_total')*(latest_poverty.column('poverty_percent')/100))"
   ]
  },
  {
   "cell_type": "code",
   "execution_count": 67,
   "metadata": {
    "deletable": false
   },
   "outputs": [
    {
     "data": {
      "text/html": [
       "<table border=\"1\" class=\"dataframe\">\n",
       "    <thead>\n",
       "        <tr>\n",
       "            <th>geo</th> <th>poverty_percent</th> <th>population_total</th> <th>poverty_total</th>\n",
       "        </tr>\n",
       "    </thead>\n",
       "    <tbody>\n",
       "        <tr>\n",
       "            <td>ago </td> <td>43.37          </td> <td>21219954        </td> <td>9.20309e+06  </td>\n",
       "        </tr>\n",
       "        <tr>\n",
       "            <td>alb </td> <td>0.46           </td> <td>2901883         </td> <td>13349        </td>\n",
       "        </tr>\n",
       "        <tr>\n",
       "            <td>arg </td> <td>1.41           </td> <td>41222875        </td> <td>581243       </td>\n",
       "        </tr>\n",
       "        <tr>\n",
       "            <td>arm </td> <td>1.75           </td> <td>2963496         </td> <td>51861        </td>\n",
       "        </tr>\n",
       "        <tr>\n",
       "            <td>aus </td> <td>1.36           </td> <td>22162863        </td> <td>301415       </td>\n",
       "        </tr>\n",
       "        <tr>\n",
       "            <td>aut </td> <td>0.34           </td> <td>8391986         </td> <td>28533        </td>\n",
       "        </tr>\n",
       "        <tr>\n",
       "            <td>aze </td> <td>0.31           </td> <td>9099893         </td> <td>28210        </td>\n",
       "        </tr>\n",
       "        <tr>\n",
       "            <td>bdi </td> <td>81.32          </td> <td>9461117         </td> <td>7.69378e+06  </td>\n",
       "        </tr>\n",
       "        <tr>\n",
       "            <td>bel </td> <td>0.5            </td> <td>10929978        </td> <td>54650        </td>\n",
       "        </tr>\n",
       "        <tr>\n",
       "            <td>ben </td> <td>51.61          </td> <td>9509798         </td> <td>4.90801e+06  </td>\n",
       "        </tr>\n",
       "    </tbody>\n",
       "</table>\n",
       "<p>... (135 rows omitted)</p>"
      ],
      "text/plain": [
       "geo  | poverty_percent | population_total | poverty_total\n",
       "ago  | 43.37           | 21219954         | 9.20309e+06\n",
       "alb  | 0.46            | 2901883          | 13349\n",
       "arg  | 1.41            | 41222875         | 581243\n",
       "arm  | 1.75            | 2963496          | 51861\n",
       "aus  | 1.36            | 22162863         | 301415\n",
       "aut  | 0.34            | 8391986          | 28533\n",
       "aze  | 0.31            | 9099893          | 28210\n",
       "bdi  | 81.32           | 9461117          | 7.69378e+06\n",
       "bel  | 0.5             | 10929978         | 54650\n",
       "ben  | 51.61           | 9509798          | 4.90801e+06\n",
       "... (135 rows omitted)"
      ]
     },
     "execution_count": 67,
     "metadata": {},
     "output_type": "execute_result"
    }
   ],
   "source": [
    "poverty_and_pop = np.round(POP.column('population_total')*(latest_poverty.column('poverty_percent')/100))\n",
    "recent_poverty_total = Table().with_columns('geo',latest_poverty.column('geo'),\n",
    "                                            'poverty_percent',latest_poverty.column('poverty_percent'),\n",
    "                                            'population_total',POP.column('population_total'),\n",
    "                                            'poverty_total',poverty_and_pop)\n",
    "recent_poverty_total"
   ]
  },
  {
   "cell_type": "code",
   "execution_count": 68,
   "metadata": {
    "deletable": false,
    "editable": false
   },
   "outputs": [
    {
     "name": "stdout",
     "output_type": "stream",
     "text": [
      "~~~~~~~~~~~~~~~~~~~~~~~~~~~~~~~~~~~~~~~~~~~~~~~~~~~~~~~~~~~~~~~~~~~~~\n",
      "Running tests\n",
      "\n",
      "---------------------------------------------------------------------\n",
      "Test summary\n",
      "    Passed: 3\n",
      "    Failed: 0\n",
      "[ooooooooook] 100.0% passed\n",
      "\n"
     ]
    }
   ],
   "source": [
    "ok.grade(\"q2_2\");"
   ]
  },
  {
   "cell_type": "markdown",
   "metadata": {
    "deletable": false,
    "editable": false
   },
   "source": [
    "**Question 3.** Assign the name `poverty_percent` to the known percentage of the world’s 2010 population that were living in extreme poverty. Assume that the `poverty_total` numbers in the `recent_poverty_total` table describe **all** people in 2010 living in extreme poverty. You should find a number that is above the 2018 global estimate of 8%, since many country-specific poverty rates are older than 2018.\n",
    "\n",
    "*Hint*: The sum of the `population_total` column in the `recent_poverty_total` table is not the world population, because only a subset of the world's countries are included in the `recent_poverty_total` table (only some countries have known poverty rates). Use the `population` table to compute the world's 2010 total population..\n",
    "\n",
    "<!--\n",
    "BEGIN QUESTION\n",
    "name: q2_3\n",
    "-->"
   ]
  },
  {
   "cell_type": "code",
   "execution_count": 69,
   "metadata": {},
   "outputs": [
    {
     "data": {
      "text/html": [
       "<table border=\"1\" class=\"dataframe\">\n",
       "    <thead>\n",
       "        <tr>\n",
       "            <th>geo</th> <th>time</th> <th>population_total</th>\n",
       "        </tr>\n",
       "    </thead>\n",
       "    <tbody>\n",
       "        <tr>\n",
       "            <td>abw </td> <td>2010</td> <td>101597          </td>\n",
       "        </tr>\n",
       "        <tr>\n",
       "            <td>afg </td> <td>2010</td> <td>27962207        </td>\n",
       "        </tr>\n",
       "        <tr>\n",
       "            <td>ago </td> <td>2010</td> <td>21219954        </td>\n",
       "        </tr>\n",
       "        <tr>\n",
       "            <td>aia </td> <td>2010</td> <td>15358           </td>\n",
       "        </tr>\n",
       "        <tr>\n",
       "            <td>ala </td> <td>2010</td> <td>26923           </td>\n",
       "        </tr>\n",
       "        <tr>\n",
       "            <td>alb </td> <td>2010</td> <td>2901883         </td>\n",
       "        </tr>\n",
       "        <tr>\n",
       "            <td>and </td> <td>2010</td> <td>84864           </td>\n",
       "        </tr>\n",
       "        <tr>\n",
       "            <td>ant </td> <td>2010</td> <td>200689          </td>\n",
       "        </tr>\n",
       "        <tr>\n",
       "            <td>are </td> <td>2010</td> <td>8329453         </td>\n",
       "        </tr>\n",
       "        <tr>\n",
       "            <td>arg </td> <td>2010</td> <td>41222875        </td>\n",
       "        </tr>\n",
       "    </tbody>\n",
       "</table>\n",
       "<p>... (227 rows omitted)</p>"
      ],
      "text/plain": [
       "geo  | time | population_total\n",
       "abw  | 2010 | 101597\n",
       "afg  | 2010 | 27962207\n",
       "ago  | 2010 | 21219954\n",
       "aia  | 2010 | 15358\n",
       "ala  | 2010 | 26923\n",
       "alb  | 2010 | 2901883\n",
       "and  | 2010 | 84864\n",
       "ant  | 2010 | 200689\n",
       "are  | 2010 | 8329453\n",
       "arg  | 2010 | 41222875\n",
       "... (227 rows omitted)"
      ]
     },
     "execution_count": 69,
     "metadata": {},
     "output_type": "execute_result"
    }
   ],
   "source": [
    "population.where('time',are.equal_to(2010))"
   ]
  },
  {
   "cell_type": "code",
   "execution_count": 70,
   "metadata": {
    "deletable": false
   },
   "outputs": [
    {
     "data": {
      "text/plain": [
       "14.299370218520854"
      ]
     },
     "execution_count": 70,
     "metadata": {},
     "output_type": "execute_result"
    }
   ],
   "source": [
    "poverty_percent = (sum(recent_poverty_total.column('poverty_total'))/sum(population.where('time',are.equal_to(2010)).column('population_total')))*100\n",
    "poverty_percent"
   ]
  },
  {
   "cell_type": "code",
   "execution_count": 71,
   "metadata": {
    "deletable": false,
    "editable": false
   },
   "outputs": [
    {
     "name": "stdout",
     "output_type": "stream",
     "text": [
      "~~~~~~~~~~~~~~~~~~~~~~~~~~~~~~~~~~~~~~~~~~~~~~~~~~~~~~~~~~~~~~~~~~~~~\n",
      "Running tests\n",
      "\n",
      "---------------------------------------------------------------------\n",
      "Test summary\n",
      "    Passed: 1\n",
      "    Failed: 0\n",
      "[ooooooooook] 100.0% passed\n",
      "\n"
     ]
    }
   ],
   "source": [
    "ok.grade(\"q2_3\");"
   ]
  },
  {
   "cell_type": "markdown",
   "metadata": {
    "deletable": false,
    "editable": false
   },
   "source": [
    "The `countries` table includes not only the name and region of countries, but also their positions on the globe."
   ]
  },
  {
   "cell_type": "code",
   "execution_count": 72,
   "metadata": {
    "deletable": false,
    "editable": false
   },
   "outputs": [
    {
     "data": {
      "text/html": [
       "<table border=\"1\" class=\"dataframe\">\n",
       "    <thead>\n",
       "        <tr>\n",
       "            <th>country</th> <th>name</th> <th>world_4region</th> <th>latitude</th> <th>longitude</th>\n",
       "        </tr>\n",
       "    </thead>\n",
       "    <tbody>\n",
       "        <tr>\n",
       "            <td>afg      </td> <td>Afghanistan          </td> <td>asia         </td> <td>33      </td> <td>66       </td>\n",
       "        </tr>\n",
       "        <tr>\n",
       "            <td>akr_a_dhe</td> <td>Akrotiri and Dhekelia</td> <td>europe       </td> <td>nan     </td> <td>nan      </td>\n",
       "        </tr>\n",
       "        <tr>\n",
       "            <td>alb      </td> <td>Albania              </td> <td>europe       </td> <td>41      </td> <td>20       </td>\n",
       "        </tr>\n",
       "        <tr>\n",
       "            <td>dza      </td> <td>Algeria              </td> <td>africa       </td> <td>28      </td> <td>3        </td>\n",
       "        </tr>\n",
       "        <tr>\n",
       "            <td>asm      </td> <td>American Samoa       </td> <td>asia         </td> <td>-11.056 </td> <td>-171.082 </td>\n",
       "        </tr>\n",
       "        <tr>\n",
       "            <td>and      </td> <td>Andorra              </td> <td>europe       </td> <td>42.5078 </td> <td>1.52109  </td>\n",
       "        </tr>\n",
       "        <tr>\n",
       "            <td>ago      </td> <td>Angola               </td> <td>africa       </td> <td>-12.5   </td> <td>18.5     </td>\n",
       "        </tr>\n",
       "        <tr>\n",
       "            <td>aia      </td> <td>Anguilla             </td> <td>americas     </td> <td>18.2167 </td> <td>-63.05   </td>\n",
       "        </tr>\n",
       "        <tr>\n",
       "            <td>atg      </td> <td>Antigua and Barbuda  </td> <td>americas     </td> <td>17.05   </td> <td>-61.8    </td>\n",
       "        </tr>\n",
       "        <tr>\n",
       "            <td>arg      </td> <td>Argentina            </td> <td>americas     </td> <td>-34     </td> <td>-64      </td>\n",
       "        </tr>\n",
       "    </tbody>\n",
       "</table>\n",
       "<p>... (245 rows omitted)</p>"
      ],
      "text/plain": [
       "country   | name                  | world_4region | latitude | longitude\n",
       "afg       | Afghanistan           | asia          | 33       | 66\n",
       "akr_a_dhe | Akrotiri and Dhekelia | europe        | nan      | nan\n",
       "alb       | Albania               | europe        | 41       | 20\n",
       "dza       | Algeria               | africa        | 28       | 3\n",
       "asm       | American Samoa        | asia          | -11.056  | -171.082\n",
       "and       | Andorra               | europe        | 42.5078  | 1.52109\n",
       "ago       | Angola                | africa        | -12.5    | 18.5\n",
       "aia       | Anguilla              | americas      | 18.2167  | -63.05\n",
       "atg       | Antigua and Barbuda   | americas      | 17.05    | -61.8\n",
       "arg       | Argentina             | americas      | -34      | -64\n",
       "... (245 rows omitted)"
      ]
     },
     "execution_count": 72,
     "metadata": {},
     "output_type": "execute_result"
    }
   ],
   "source": [
    "countries.select('country', 'name', 'world_4region', 'latitude', 'longitude')"
   ]
  },
  {
   "cell_type": "code",
   "execution_count": 73,
   "metadata": {},
   "outputs": [
    {
     "data": {
      "text/plain": [
       "array(['ago', 'alb', 'arg', 'arm', 'aus', 'aut', 'aze', 'bdi', 'bel',\n",
       "       'ben', 'bfa', 'bgd', 'bgr', 'bih', 'blr', 'blz', 'bol', 'bra',\n",
       "       'btn', 'bwa', 'caf', 'can', 'che', 'chl', 'chn', 'civ', 'cmr',\n",
       "       'cod', 'cog', 'col', 'com', 'cpv', 'cri', 'cze', 'deu', 'dji',\n",
       "       'dnk', 'dom', 'dza', 'ecu', 'egy', 'esp', 'est', 'eth', 'fin',\n",
       "       'fji', 'fra', 'fsm', 'gab', 'gbr', 'geo', 'gha', 'gin', 'gmb',\n",
       "       'gnb', 'grc', 'gtm', 'guy', 'hnd', 'hrv', 'hti', 'hun', 'idn',\n",
       "       'ind', 'irl', 'irn', 'irq', 'isr', 'ita', 'jam', 'jor', 'jpn',\n",
       "       'kaz', 'ken', 'kgz', 'khm', 'lao', 'lbr', 'lca', 'lka', 'lso',\n",
       "       'ltu', 'lva', 'mar', 'mda', 'mdg', 'mdv', 'mex', 'mkd', 'mli',\n",
       "       'mne', 'moz', 'mrt', 'mwi', 'mys', 'nam', 'ner', 'nga', 'nic',\n",
       "       'nld', 'nor', 'npl', 'pak', 'pan', 'per', 'phl', 'png', 'pol',\n",
       "       'pry', 'pse', 'rou', 'rus', 'rwa', 'sdn', 'sen', 'sle', 'slv',\n",
       "       'srb', 'stp', 'sur', 'svk', 'svn', 'swe', 'swz', 'syc', 'syr',\n",
       "       'tcd', 'tgo', 'tha', 'tjk', 'tkm', 'tls', 'tto', 'tun', 'tur',\n",
       "       'tza', 'uga', 'ukr', 'ury', 'usa', 'ven', 'vnm', 'yem', 'zaf',\n",
       "       'zmb'], dtype='<U3')"
      ]
     },
     "execution_count": 73,
     "metadata": {},
     "output_type": "execute_result"
    }
   ],
   "source": [
    "arr=recent_poverty_total.column('geo')\n",
    "arr"
   ]
  },
  {
   "cell_type": "code",
   "execution_count": 74,
   "metadata": {},
   "outputs": [
    {
     "data": {
      "text/html": [
       "<table border=\"1\" class=\"dataframe\">\n",
       "    <thead>\n",
       "        <tr>\n",
       "            <th>country</th> <th>name</th> <th>world_4region</th> <th>latitude</th> <th>longitude</th>\n",
       "        </tr>\n",
       "    </thead>\n",
       "    <tbody>\n",
       "        <tr>\n",
       "            <td>alb    </td> <td>Albania   </td> <td>europe       </td> <td>41      </td> <td>20       </td>\n",
       "        </tr>\n",
       "        <tr>\n",
       "            <td>dza    </td> <td>Algeria   </td> <td>africa       </td> <td>28      </td> <td>3        </td>\n",
       "        </tr>\n",
       "        <tr>\n",
       "            <td>ago    </td> <td>Angola    </td> <td>africa       </td> <td>-12.5   </td> <td>18.5     </td>\n",
       "        </tr>\n",
       "        <tr>\n",
       "            <td>arg    </td> <td>Argentina </td> <td>americas     </td> <td>-34     </td> <td>-64      </td>\n",
       "        </tr>\n",
       "        <tr>\n",
       "            <td>arm    </td> <td>Armenia   </td> <td>europe       </td> <td>40.25   </td> <td>45       </td>\n",
       "        </tr>\n",
       "        <tr>\n",
       "            <td>aus    </td> <td>Australia </td> <td>asia         </td> <td>-25     </td> <td>135      </td>\n",
       "        </tr>\n",
       "        <tr>\n",
       "            <td>aut    </td> <td>Austria   </td> <td>europe       </td> <td>47.3333 </td> <td>13.3333  </td>\n",
       "        </tr>\n",
       "        <tr>\n",
       "            <td>aze    </td> <td>Azerbaijan</td> <td>europe       </td> <td>40.5    </td> <td>47.5     </td>\n",
       "        </tr>\n",
       "        <tr>\n",
       "            <td>bgd    </td> <td>Bangladesh</td> <td>asia         </td> <td>24      </td> <td>90       </td>\n",
       "        </tr>\n",
       "        <tr>\n",
       "            <td>blr    </td> <td>Belarus   </td> <td>europe       </td> <td>53      </td> <td>28       </td>\n",
       "        </tr>\n",
       "    </tbody>\n",
       "</table>\n",
       "<p>... (135 rows omitted)</p>"
      ],
      "text/plain": [
       "country | name       | world_4region | latitude | longitude\n",
       "alb     | Albania    | europe        | 41       | 20\n",
       "dza     | Algeria    | africa        | 28       | 3\n",
       "ago     | Angola     | africa        | -12.5    | 18.5\n",
       "arg     | Argentina  | americas      | -34      | -64\n",
       "arm     | Armenia    | europe        | 40.25    | 45\n",
       "aus     | Australia  | asia          | -25      | 135\n",
       "aut     | Austria    | europe        | 47.3333  | 13.3333\n",
       "aze     | Azerbaijan | europe        | 40.5     | 47.5\n",
       "bgd     | Bangladesh | asia          | 24       | 90\n",
       "blr     | Belarus    | europe        | 53       | 28\n",
       "... (135 rows omitted)"
      ]
     },
     "execution_count": 74,
     "metadata": {},
     "output_type": "execute_result"
    }
   ],
   "source": [
    "country1=countries.select('country', 'name', 'world_4region', 'latitude', 'longitude').where('country',are.contained_in(arr))\n",
    "country1"
   ]
  },
  {
   "cell_type": "markdown",
   "metadata": {
    "deletable": false,
    "editable": false
   },
   "source": [
    "**Question 4.** Using both `countries` and `recent_poverty_total`, create a five-column table called `poverty_map` with one row for every country in `recent_poverty_total`.  The five columns should have the following labels and contents:\n",
    "1. `latitude` contains the country's latitude,\n",
    "1. `longitude` contains the country's longitude,\n",
    "1. `name` contains the country's name,\n",
    "1. `region` contains the country's region from the `world_4region` column of `countries`,\n",
    "1. `poverty_total` contains the country's poverty total.\n",
    "\n",
    "<!--\n",
    "BEGIN QUESTION\n",
    "name: q2_4\n",
    "-->"
   ]
  },
  {
   "cell_type": "code",
   "execution_count": 75,
   "metadata": {
    "deletable": false
   },
   "outputs": [
    {
     "data": {
      "text/html": [
       "<table border=\"1\" class=\"dataframe\">\n",
       "    <thead>\n",
       "        <tr>\n",
       "            <th>latitude</th> <th>longitude</th> <th>name</th> <th>region</th> <th>poverty_total</th>\n",
       "        </tr>\n",
       "    </thead>\n",
       "    <tbody>\n",
       "        <tr>\n",
       "            <td>41      </td> <td>20       </td> <td>alb </td> <td>europe  </td> <td>9.20309e+06  </td>\n",
       "        </tr>\n",
       "        <tr>\n",
       "            <td>28      </td> <td>3        </td> <td>dza </td> <td>africa  </td> <td>13349        </td>\n",
       "        </tr>\n",
       "        <tr>\n",
       "            <td>-12.5   </td> <td>18.5     </td> <td>ago </td> <td>africa  </td> <td>581243       </td>\n",
       "        </tr>\n",
       "        <tr>\n",
       "            <td>-34     </td> <td>-64      </td> <td>arg </td> <td>americas</td> <td>51861        </td>\n",
       "        </tr>\n",
       "        <tr>\n",
       "            <td>40.25   </td> <td>45       </td> <td>arm </td> <td>europe  </td> <td>301415       </td>\n",
       "        </tr>\n",
       "        <tr>\n",
       "            <td>-25     </td> <td>135      </td> <td>aus </td> <td>asia    </td> <td>28533        </td>\n",
       "        </tr>\n",
       "        <tr>\n",
       "            <td>47.3333 </td> <td>13.3333  </td> <td>aut </td> <td>europe  </td> <td>28210        </td>\n",
       "        </tr>\n",
       "        <tr>\n",
       "            <td>40.5    </td> <td>47.5     </td> <td>aze </td> <td>europe  </td> <td>7.69378e+06  </td>\n",
       "        </tr>\n",
       "        <tr>\n",
       "            <td>24      </td> <td>90       </td> <td>bgd </td> <td>asia    </td> <td>54650        </td>\n",
       "        </tr>\n",
       "        <tr>\n",
       "            <td>53      </td> <td>28       </td> <td>blr </td> <td>europe  </td> <td>4.90801e+06  </td>\n",
       "        </tr>\n",
       "    </tbody>\n",
       "</table>\n",
       "<p>... (135 rows omitted)</p>"
      ],
      "text/plain": [
       "latitude | longitude | name | region   | poverty_total\n",
       "41       | 20        | alb  | europe   | 9.20309e+06\n",
       "28       | 3         | dza  | africa   | 13349\n",
       "-12.5    | 18.5      | ago  | africa   | 581243\n",
       "-34      | -64       | arg  | americas | 51861\n",
       "40.25    | 45        | arm  | europe   | 301415\n",
       "-25      | 135       | aus  | asia     | 28533\n",
       "47.3333  | 13.3333   | aut  | europe   | 28210\n",
       "40.5     | 47.5      | aze  | europe   | 7.69378e+06\n",
       "24       | 90        | bgd  | asia     | 54650\n",
       "53       | 28        | blr  | europe   | 4.90801e+06\n",
       "... (135 rows omitted)"
      ]
     },
     "execution_count": 75,
     "metadata": {},
     "output_type": "execute_result"
    }
   ],
   "source": [
    "poverty_map =Table().with_columns('latitude',country1.column('latitude'),\n",
    "                                  'longitude',country1.column('longitude'),\n",
    "                                  'name',country1.column('country'),\n",
    "                                  'region',country1.column('world_4region'),\n",
    "                                  'poverty_total',recent_poverty_total.column('poverty_total'))\n",
    "poverty_map"
   ]
  },
  {
   "cell_type": "code",
   "execution_count": 76,
   "metadata": {
    "deletable": false,
    "editable": false
   },
   "outputs": [
    {
     "name": "stdout",
     "output_type": "stream",
     "text": [
      "~~~~~~~~~~~~~~~~~~~~~~~~~~~~~~~~~~~~~~~~~~~~~~~~~~~~~~~~~~~~~~~~~~~~~\n",
      "Running tests\n",
      "\n",
      "---------------------------------------------------------------------\n",
      "Test summary\n",
      "    Passed: 2\n",
      "    Failed: 0\n",
      "[ooooooooook] 100.0% passed\n",
      "\n"
     ]
    }
   ],
   "source": [
    "ok.grade(\"q2_4\");"
   ]
  },
  {
   "cell_type": "markdown",
   "metadata": {
    "deletable": false,
    "editable": false
   },
   "source": [
    "Run the cell below to draw a map of the world in which the areas of circles represent the number of people living in extreme poverty. Double-click on the map to zoom in."
   ]
  },
  {
   "cell_type": "code",
   "execution_count": 77,
   "metadata": {
    "deletable": false,
    "editable": false
   },
   "outputs": [
    {
     "data": {
      "text/html": [
       "<div style=\"width:100%;\"><div style=\"position:relative;width:100%;height:0;padding-bottom:60%;\"><iframe src=\"data:text/html;charset=utf-8;base64,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\" style=\"position:absolute;width:100%;height:100%;left:0;top:0;border:none !important;\" allowfullscreen webkitallowfullscreen mozallowfullscreen></iframe></div></div>"
      ],
      "text/plain": [
       "<datascience.maps.Map at 0x7f32e05dba90>"
      ]
     },
     "execution_count": 77,
     "metadata": {},
     "output_type": "execute_result"
    }
   ],
   "source": [
    "# It may take a few seconds to generate this map.\n",
    "colors = {'africa': 'blue', 'europe': 'black', 'asia': 'red', 'americas': 'green'}\n",
    "scaled = poverty_map.with_columns(\n",
    "    'poverty_total', 1e-4 * poverty_map.column('poverty_total'),\n",
    "    'region', poverty_map.apply(colors.get, 'region')\n",
    ")\n",
    "Circle.map_table(scaled)"
   ]
  },
  {
   "cell_type": "markdown",
   "metadata": {
    "deletable": false,
    "editable": false
   },
   "source": [
    "Although people live in extreme poverty throughout the world (with more than 5 million in the United States), the largest numbers are in Asia and Africa."
   ]
  },
  {
   "cell_type": "markdown",
   "metadata": {
    "deletable": false,
    "editable": false
   },
   "source": [
    "**Question 5.** Assign `largest` to a two-column table with the `name` (not the 3-letter code) and `poverty_total` of the 10 countries with the largest number of people living in extreme poverty.\n",
    "\n",
    "<!--\n",
    "BEGIN QUESTION\n",
    "name: q2_5\n",
    "-->"
   ]
  },
  {
   "cell_type": "code",
   "execution_count": 78,
   "metadata": {},
   "outputs": [
    {
     "data": {
      "text/html": [
       "<table border=\"1\" class=\"dataframe\">\n",
       "    <thead>\n",
       "        <tr>\n",
       "            <th>country</th> <th>name</th>\n",
       "        </tr>\n",
       "    </thead>\n",
       "    <tbody>\n",
       "        <tr>\n",
       "            <td>alb    </td> <td>Albania   </td>\n",
       "        </tr>\n",
       "        <tr>\n",
       "            <td>dza    </td> <td>Algeria   </td>\n",
       "        </tr>\n",
       "        <tr>\n",
       "            <td>ago    </td> <td>Angola    </td>\n",
       "        </tr>\n",
       "        <tr>\n",
       "            <td>arg    </td> <td>Argentina </td>\n",
       "        </tr>\n",
       "        <tr>\n",
       "            <td>arm    </td> <td>Armenia   </td>\n",
       "        </tr>\n",
       "        <tr>\n",
       "            <td>aus    </td> <td>Australia </td>\n",
       "        </tr>\n",
       "        <tr>\n",
       "            <td>aut    </td> <td>Austria   </td>\n",
       "        </tr>\n",
       "        <tr>\n",
       "            <td>aze    </td> <td>Azerbaijan</td>\n",
       "        </tr>\n",
       "        <tr>\n",
       "            <td>bgd    </td> <td>Bangladesh</td>\n",
       "        </tr>\n",
       "        <tr>\n",
       "            <td>blr    </td> <td>Belarus   </td>\n",
       "        </tr>\n",
       "    </tbody>\n",
       "</table>\n",
       "<p>... (135 rows omitted)</p>"
      ],
      "text/plain": [
       "country | name\n",
       "alb     | Albania\n",
       "dza     | Algeria\n",
       "ago     | Angola\n",
       "arg     | Argentina\n",
       "arm     | Armenia\n",
       "aus     | Australia\n",
       "aut     | Austria\n",
       "aze     | Azerbaijan\n",
       "bgd     | Bangladesh\n",
       "blr     | Belarus\n",
       "... (135 rows omitted)"
      ]
     },
     "execution_count": 78,
     "metadata": {},
     "output_type": "execute_result"
    }
   ],
   "source": [
    "name_OF_country=country1.select('country','name')\n",
    "name_OF_country"
   ]
  },
  {
   "cell_type": "code",
   "execution_count": 79,
   "metadata": {},
   "outputs": [],
   "source": [
    "def country(geo):\n",
    "    return name_OF_country.where('country',are.equal_to(geo)).column(1).item(0)"
   ]
  },
  {
   "cell_type": "code",
   "execution_count": 80,
   "metadata": {},
   "outputs": [
    {
     "data": {
      "text/plain": [
       "'Albania'"
      ]
     },
     "execution_count": 80,
     "metadata": {},
     "output_type": "execute_result"
    }
   ],
   "source": [
    "country('alb')"
   ]
  },
  {
   "cell_type": "code",
   "execution_count": 81,
   "metadata": {},
   "outputs": [
    {
     "data": {
      "text/html": [
       "<table border=\"1\" class=\"dataframe\">\n",
       "    <thead>\n",
       "        <tr>\n",
       "            <th>geo</th> <th>poverty_percent</th> <th>population_total</th> <th>poverty_total</th>\n",
       "        </tr>\n",
       "    </thead>\n",
       "    <tbody>\n",
       "        <tr>\n",
       "            <td>ind </td> <td>23.63          </td> <td>1230984504      </td> <td>2.90882e+08  </td>\n",
       "        </tr>\n",
       "        <tr>\n",
       "            <td>nga </td> <td>62.03          </td> <td>159424742       </td> <td>9.88912e+07  </td>\n",
       "        </tr>\n",
       "        <tr>\n",
       "            <td>chn </td> <td>6.26           </td> <td>1340968737      </td> <td>8.39446e+07  </td>\n",
       "        </tr>\n",
       "        <tr>\n",
       "            <td>bgd </td> <td>43.25          </td> <td>151616777       </td> <td>6.55743e+07  </td>\n",
       "        </tr>\n",
       "        <tr>\n",
       "            <td>cod </td> <td>87.72          </td> <td>65938712        </td> <td>5.78414e+07  </td>\n",
       "        </tr>\n",
       "        <tr>\n",
       "            <td>idn </td> <td>16.2           </td> <td>241613126       </td> <td>3.91413e+07  </td>\n",
       "        </tr>\n",
       "        <tr>\n",
       "            <td>eth </td> <td>36.79          </td> <td>87561814        </td> <td>3.2214e+07   </td>\n",
       "        </tr>\n",
       "        <tr>\n",
       "            <td>pak </td> <td>12.74          </td> <td>170043918       </td> <td>2.16636e+07  </td>\n",
       "        </tr>\n",
       "        <tr>\n",
       "            <td>tza </td> <td>43.48          </td> <td>45648525        </td> <td>1.9848e+07   </td>\n",
       "        </tr>\n",
       "        <tr>\n",
       "            <td>mdg </td> <td>87.67          </td> <td>21079532        </td> <td>1.84804e+07  </td>\n",
       "        </tr>\n",
       "    </tbody>\n",
       "</table>\n",
       "<p>... (135 rows omitted)</p>"
      ],
      "text/plain": [
       "geo  | poverty_percent | population_total | poverty_total\n",
       "ind  | 23.63           | 1230984504       | 2.90882e+08\n",
       "nga  | 62.03           | 159424742        | 9.88912e+07\n",
       "chn  | 6.26            | 1340968737       | 8.39446e+07\n",
       "bgd  | 43.25           | 151616777        | 6.55743e+07\n",
       "cod  | 87.72           | 65938712         | 5.78414e+07\n",
       "idn  | 16.2            | 241613126        | 3.91413e+07\n",
       "eth  | 36.79           | 87561814         | 3.2214e+07\n",
       "pak  | 12.74           | 170043918        | 2.16636e+07\n",
       "tza  | 43.48           | 45648525         | 1.9848e+07\n",
       "mdg  | 87.67           | 21079532         | 1.84804e+07\n",
       "... (135 rows omitted)"
      ]
     },
     "execution_count": 81,
     "metadata": {},
     "output_type": "execute_result"
    }
   ],
   "source": [
    "TAB=recent_poverty_total.sort('poverty_total',descending=True)\n",
    "TAB"
   ]
  },
  {
   "cell_type": "code",
   "execution_count": 82,
   "metadata": {},
   "outputs": [
    {
     "data": {
      "text/html": [
       "<table border=\"1\" class=\"dataframe\">\n",
       "    <thead>\n",
       "        <tr>\n",
       "            <th>geo</th> <th>poverty_percent</th> <th>population_total</th> <th>poverty_total</th>\n",
       "        </tr>\n",
       "    </thead>\n",
       "    <tbody>\n",
       "        <tr>\n",
       "            <td>ind </td> <td>23.63          </td> <td>1230984504      </td> <td>2.90882e+08  </td>\n",
       "        </tr>\n",
       "        <tr>\n",
       "            <td>nga </td> <td>62.03          </td> <td>159424742       </td> <td>9.88912e+07  </td>\n",
       "        </tr>\n",
       "        <tr>\n",
       "            <td>chn </td> <td>6.26           </td> <td>1340968737      </td> <td>8.39446e+07  </td>\n",
       "        </tr>\n",
       "        <tr>\n",
       "            <td>bgd </td> <td>43.25          </td> <td>151616777       </td> <td>6.55743e+07  </td>\n",
       "        </tr>\n",
       "        <tr>\n",
       "            <td>cod </td> <td>87.72          </td> <td>65938712        </td> <td>5.78414e+07  </td>\n",
       "        </tr>\n",
       "        <tr>\n",
       "            <td>idn </td> <td>16.2           </td> <td>241613126       </td> <td>3.91413e+07  </td>\n",
       "        </tr>\n",
       "        <tr>\n",
       "            <td>eth </td> <td>36.79          </td> <td>87561814        </td> <td>3.2214e+07   </td>\n",
       "        </tr>\n",
       "        <tr>\n",
       "            <td>pak </td> <td>12.74          </td> <td>170043918       </td> <td>2.16636e+07  </td>\n",
       "        </tr>\n",
       "        <tr>\n",
       "            <td>tza </td> <td>43.48          </td> <td>45648525        </td> <td>1.9848e+07   </td>\n",
       "        </tr>\n",
       "        <tr>\n",
       "            <td>mdg </td> <td>87.67          </td> <td>21079532        </td> <td>1.84804e+07  </td>\n",
       "        </tr>\n",
       "    </tbody>\n",
       "</table>"
      ],
      "text/plain": [
       "geo  | poverty_percent | population_total | poverty_total\n",
       "ind  | 23.63           | 1230984504       | 2.90882e+08\n",
       "nga  | 62.03           | 159424742        | 9.88912e+07\n",
       "chn  | 6.26            | 1340968737       | 8.39446e+07\n",
       "bgd  | 43.25           | 151616777        | 6.55743e+07\n",
       "cod  | 87.72           | 65938712         | 5.78414e+07\n",
       "idn  | 16.2            | 241613126        | 3.91413e+07\n",
       "eth  | 36.79           | 87561814         | 3.2214e+07\n",
       "pak  | 12.74           | 170043918        | 2.16636e+07\n",
       "tza  | 43.48           | 45648525         | 1.9848e+07\n",
       "mdg  | 87.67           | 21079532         | 1.84804e+07"
      ]
     },
     "execution_count": 82,
     "metadata": {},
     "output_type": "execute_result"
    }
   ],
   "source": [
    "largest_pop_countries=TAB.take(np.arange(10))\n",
    "largest_pop_countries"
   ]
  },
  {
   "cell_type": "code",
   "execution_count": 83,
   "metadata": {},
   "outputs": [
    {
     "data": {
      "text/plain": [
       "array(['India', 'Nigeria', 'China', 'Bangladesh', 'Congo, Dem. Rep.',\n",
       "       'Indonesia', 'Ethiopia', 'Pakistan', 'Tanzania', 'Madagascar'],\n",
       "      dtype='<U16')"
      ]
     },
     "execution_count": 83,
     "metadata": {},
     "output_type": "execute_result"
    }
   ],
   "source": [
    "largest_pop_countries.apply(country,'geo')"
   ]
  },
  {
   "cell_type": "code",
   "execution_count": 84,
   "metadata": {
    "deletable": false
   },
   "outputs": [
    {
     "data": {
      "text/html": [
       "<table border=\"1\" class=\"dataframe\">\n",
       "    <thead>\n",
       "        <tr>\n",
       "            <th>name</th> <th>poverty_total</th>\n",
       "        </tr>\n",
       "    </thead>\n",
       "    <tbody>\n",
       "        <tr>\n",
       "            <td>India           </td> <td>290,881,638.00</td>\n",
       "        </tr>\n",
       "        <tr>\n",
       "            <td>Nigeria         </td> <td>98,891,167.00 </td>\n",
       "        </tr>\n",
       "        <tr>\n",
       "            <td>China           </td> <td>83,944,643.00 </td>\n",
       "        </tr>\n",
       "        <tr>\n",
       "            <td>Bangladesh      </td> <td>65,574,256.00 </td>\n",
       "        </tr>\n",
       "        <tr>\n",
       "            <td>Congo, Dem. Rep.</td> <td>57,841,438.00 </td>\n",
       "        </tr>\n",
       "        <tr>\n",
       "            <td>Indonesia       </td> <td>39,141,326.00 </td>\n",
       "        </tr>\n",
       "        <tr>\n",
       "            <td>Ethiopia        </td> <td>32,213,991.00 </td>\n",
       "        </tr>\n",
       "        <tr>\n",
       "            <td>Pakistan        </td> <td>21,663,595.00 </td>\n",
       "        </tr>\n",
       "        <tr>\n",
       "            <td>Tanzania        </td> <td>19,847,979.00 </td>\n",
       "        </tr>\n",
       "        <tr>\n",
       "            <td>Madagascar      </td> <td>18,480,426.00 </td>\n",
       "        </tr>\n",
       "    </tbody>\n",
       "</table>"
      ],
      "text/plain": [
       "name             | poverty_total\n",
       "India            | 290,881,638.00\n",
       "Nigeria          | 98,891,167.00\n",
       "China            | 83,944,643.00\n",
       "Bangladesh       | 65,574,256.00\n",
       "Congo, Dem. Rep. | 57,841,438.00\n",
       "Indonesia        | 39,141,326.00\n",
       "Ethiopia         | 32,213,991.00\n",
       "Pakistan         | 21,663,595.00\n",
       "Tanzania         | 19,847,979.00\n",
       "Madagascar       | 18,480,426.00"
      ]
     },
     "execution_count": 84,
     "metadata": {},
     "output_type": "execute_result"
    }
   ],
   "source": [
    "largest = Table().with_columns('name',largest_pop_countries.apply(country,'geo'),\n",
    "                             'poverty_total',largest_pop_countries.column('poverty_total'))\n",
    "largest.set_format('poverty_total', NumberFormatter)"
   ]
  },
  {
   "cell_type": "code",
   "execution_count": 85,
   "metadata": {
    "deletable": false,
    "editable": false
   },
   "outputs": [
    {
     "name": "stdout",
     "output_type": "stream",
     "text": [
      "~~~~~~~~~~~~~~~~~~~~~~~~~~~~~~~~~~~~~~~~~~~~~~~~~~~~~~~~~~~~~~~~~~~~~\n",
      "Running tests\n",
      "\n",
      "---------------------------------------------------------------------\n",
      "Test summary\n",
      "    Passed: 3\n",
      "    Failed: 0\n",
      "[ooooooooook] 100.0% passed\n",
      "\n"
     ]
    }
   ],
   "source": [
    "ok.grade(\"q2_5\");"
   ]
  },
  {
   "cell_type": "markdown",
   "metadata": {
    "deletable": false
   },
   "source": [
    "**Question 6.** Write a function called `poverty_timeline` that takes **the name of a country** as its argument. It should draw a line plot of the number of people living in poverty in that country with time on the horizontal axis. The line plot should have a point for each row in the `poverty` table for that country. To compute the population living in poverty from a poverty percentage, multiply by the population of the country **in that year**.\n",
    "\n",
    "*Hint:* This question is long. Feel free to create cells and experiment. "
   ]
  },
  {
   "cell_type": "code",
   "execution_count": 86,
   "metadata": {},
   "outputs": [
    {
     "data": {
      "text/html": [
       "<table border=\"1\" class=\"dataframe\">\n",
       "    <thead>\n",
       "        <tr>\n",
       "            <th>geo</th> <th>time</th> <th>extreme_poverty_percent_people_below_125_a_day</th>\n",
       "        </tr>\n",
       "    </thead>\n",
       "    <tbody>\n",
       "        <tr>\n",
       "            <td>alb </td> <td>1996</td> <td>0.2                                           </td>\n",
       "        </tr>\n",
       "        <tr>\n",
       "            <td>alb </td> <td>2002</td> <td>0.73                                          </td>\n",
       "        </tr>\n",
       "        <tr>\n",
       "            <td>alb </td> <td>2004</td> <td>0.53                                          </td>\n",
       "        </tr>\n",
       "        <tr>\n",
       "            <td>alb </td> <td>2005</td> <td>0.44                                          </td>\n",
       "        </tr>\n",
       "        <tr>\n",
       "            <td>alb </td> <td>2008</td> <td>0.2                                           </td>\n",
       "        </tr>\n",
       "        <tr>\n",
       "            <td>alb </td> <td>2012</td> <td>0.46                                          </td>\n",
       "        </tr>\n",
       "        <tr>\n",
       "            <td>dza </td> <td>1988</td> <td>7.1                                           </td>\n",
       "        </tr>\n",
       "        <tr>\n",
       "            <td>dza </td> <td>1995</td> <td>6.38                                          </td>\n",
       "        </tr>\n",
       "        <tr>\n",
       "            <td>ago </td> <td>2000</td> <td>54.31                                         </td>\n",
       "        </tr>\n",
       "        <tr>\n",
       "            <td>ago </td> <td>2009</td> <td>43.37                                         </td>\n",
       "        </tr>\n",
       "    </tbody>\n",
       "</table>\n",
       "<p>... (1089 rows omitted)</p>"
      ],
      "text/plain": [
       "geo  | time | extreme_poverty_percent_people_below_125_a_day\n",
       "alb  | 1996 | 0.2\n",
       "alb  | 2002 | 0.73\n",
       "alb  | 2004 | 0.53\n",
       "alb  | 2005 | 0.44\n",
       "alb  | 2008 | 0.2\n",
       "alb  | 2012 | 0.46\n",
       "dza  | 1988 | 7.1\n",
       "dza  | 1995 | 6.38\n",
       "ago  | 2000 | 54.31\n",
       "ago  | 2009 | 43.37\n",
       "... (1089 rows omitted)"
      ]
     },
     "execution_count": 86,
     "metadata": {},
     "output_type": "execute_result"
    }
   ],
   "source": [
    "poverty = Table.read_table('poverty.csv')\n",
    "poverty"
   ]
  },
  {
   "cell_type": "code",
   "execution_count": 87,
   "metadata": {},
   "outputs": [
    {
     "data": {
      "text/plain": [
       "array(['Albania', 'Albania', 'Albania', ..., 'Zambia', 'Zambia', 'Zambia'],\n",
       "      dtype='<U24')"
      ]
     },
     "execution_count": 87,
     "metadata": {},
     "output_type": "execute_result"
    }
   ],
   "source": [
    "full_name=poverty.apply(country,'geo')\n",
    "full_name"
   ]
  },
  {
   "cell_type": "code",
   "execution_count": 88,
   "metadata": {},
   "outputs": [
    {
     "data": {
      "text/html": [
       "<table border=\"1\" class=\"dataframe\">\n",
       "    <thead>\n",
       "        <tr>\n",
       "            <th>geo</th> <th>time</th> <th>extreme_poverty_percent_people_below_125_a_day</th> <th>full name</th>\n",
       "        </tr>\n",
       "    </thead>\n",
       "    <tbody>\n",
       "        <tr>\n",
       "            <td>alb </td> <td>1996</td> <td>0.2                                           </td> <td>Albania  </td>\n",
       "        </tr>\n",
       "        <tr>\n",
       "            <td>alb </td> <td>2002</td> <td>0.73                                          </td> <td>Albania  </td>\n",
       "        </tr>\n",
       "        <tr>\n",
       "            <td>alb </td> <td>2004</td> <td>0.53                                          </td> <td>Albania  </td>\n",
       "        </tr>\n",
       "        <tr>\n",
       "            <td>alb </td> <td>2005</td> <td>0.44                                          </td> <td>Albania  </td>\n",
       "        </tr>\n",
       "        <tr>\n",
       "            <td>alb </td> <td>2008</td> <td>0.2                                           </td> <td>Albania  </td>\n",
       "        </tr>\n",
       "        <tr>\n",
       "            <td>alb </td> <td>2012</td> <td>0.46                                          </td> <td>Albania  </td>\n",
       "        </tr>\n",
       "        <tr>\n",
       "            <td>dza </td> <td>1988</td> <td>7.1                                           </td> <td>Algeria  </td>\n",
       "        </tr>\n",
       "        <tr>\n",
       "            <td>dza </td> <td>1995</td> <td>6.38                                          </td> <td>Algeria  </td>\n",
       "        </tr>\n",
       "        <tr>\n",
       "            <td>ago </td> <td>2000</td> <td>54.31                                         </td> <td>Angola   </td>\n",
       "        </tr>\n",
       "        <tr>\n",
       "            <td>ago </td> <td>2009</td> <td>43.37                                         </td> <td>Angola   </td>\n",
       "        </tr>\n",
       "    </tbody>\n",
       "</table>\n",
       "<p>... (1089 rows omitted)</p>"
      ],
      "text/plain": [
       "geo  | time | extreme_poverty_percent_people_below_125_a_day | full name\n",
       "alb  | 1996 | 0.2                                            | Albania\n",
       "alb  | 2002 | 0.73                                           | Albania\n",
       "alb  | 2004 | 0.53                                           | Albania\n",
       "alb  | 2005 | 0.44                                           | Albania\n",
       "alb  | 2008 | 0.2                                            | Albania\n",
       "alb  | 2012 | 0.46                                           | Albania\n",
       "dza  | 1988 | 7.1                                            | Algeria\n",
       "dza  | 1995 | 6.38                                           | Algeria\n",
       "ago  | 2000 | 54.31                                          | Angola\n",
       "ago  | 2009 | 43.37                                          | Angola\n",
       "... (1089 rows omitted)"
      ]
     },
     "execution_count": 88,
     "metadata": {},
     "output_type": "execute_result"
    }
   ],
   "source": [
    "poverty_new=poverty.with_column('full name',full_name)\n",
    "poverty_new"
   ]
  },
  {
   "cell_type": "code",
   "execution_count": 89,
   "metadata": {},
   "outputs": [
    {
     "data": {
      "text/html": [
       "<table border=\"1\" class=\"dataframe\">\n",
       "    <thead>\n",
       "        <tr>\n",
       "            <th>geo</th> <th>time</th> <th>population_total</th>\n",
       "        </tr>\n",
       "    </thead>\n",
       "    <tbody>\n",
       "        <tr>\n",
       "            <td>abw </td> <td>1800</td> <td>19286           </td>\n",
       "        </tr>\n",
       "        <tr>\n",
       "            <td>abw </td> <td>1801</td> <td>19286           </td>\n",
       "        </tr>\n",
       "        <tr>\n",
       "            <td>abw </td> <td>1802</td> <td>19286           </td>\n",
       "        </tr>\n",
       "        <tr>\n",
       "            <td>abw </td> <td>1803</td> <td>19286           </td>\n",
       "        </tr>\n",
       "        <tr>\n",
       "            <td>abw </td> <td>1804</td> <td>19286           </td>\n",
       "        </tr>\n",
       "        <tr>\n",
       "            <td>abw </td> <td>1805</td> <td>19286           </td>\n",
       "        </tr>\n",
       "        <tr>\n",
       "            <td>abw </td> <td>1806</td> <td>19286           </td>\n",
       "        </tr>\n",
       "        <tr>\n",
       "            <td>abw </td> <td>1807</td> <td>19286           </td>\n",
       "        </tr>\n",
       "        <tr>\n",
       "            <td>abw </td> <td>1808</td> <td>19286           </td>\n",
       "        </tr>\n",
       "        <tr>\n",
       "            <td>abw </td> <td>1809</td> <td>19286           </td>\n",
       "        </tr>\n",
       "    </tbody>\n",
       "</table>\n",
       "<p>... (87785 rows omitted)</p>"
      ],
      "text/plain": [
       "geo  | time | population_total\n",
       "abw  | 1800 | 19286\n",
       "abw  | 1801 | 19286\n",
       "abw  | 1802 | 19286\n",
       "abw  | 1803 | 19286\n",
       "abw  | 1804 | 19286\n",
       "abw  | 1805 | 19286\n",
       "abw  | 1806 | 19286\n",
       "abw  | 1807 | 19286\n",
       "abw  | 1808 | 19286\n",
       "abw  | 1809 | 19286\n",
       "... (87785 rows omitted)"
      ]
     },
     "execution_count": 89,
     "metadata": {},
     "output_type": "execute_result"
    }
   ],
   "source": [
    "population = Table.read_table('population.csv')\n",
    "population"
   ]
  },
  {
   "cell_type": "code",
   "execution_count": 90,
   "metadata": {},
   "outputs": [],
   "source": [
    "def Name(ge,ye):\n",
    "    return population.where('geo',are.equal_to(ge)).where('time',are.equal_to(ye)).column(2).item(0)"
   ]
  },
  {
   "cell_type": "code",
   "execution_count": 91,
   "metadata": {},
   "outputs": [
    {
     "data": {
      "text/plain": [
       "19286"
      ]
     },
     "execution_count": 91,
     "metadata": {},
     "output_type": "execute_result"
    }
   ],
   "source": [
    "Name('abw',1807)"
   ]
  },
  {
   "cell_type": "code",
   "execution_count": 100,
   "metadata": {},
   "outputs": [
    {
     "data": {
      "text/plain": [
       "array([ 3092034,  3123112,  3103758, ..., 11725635, 12381509, 13917439])"
      ]
     },
     "execution_count": 100,
     "metadata": {},
     "output_type": "execute_result"
    }
   ],
   "source": [
    "arr2=poverty.apply(Name,'geo','time')\n",
    "arr2"
   ]
  },
  {
   "cell_type": "code",
   "execution_count": 102,
   "metadata": {},
   "outputs": [
    {
     "data": {
      "text/plain": [
       "array([6.18406800e+05, 2.27987176e+06, 1.64499174e+06, ...,\n",
       "       7.53841074e+08, 8.48257182e+08, 1.03434407e+09])"
      ]
     },
     "execution_count": 102,
     "metadata": {},
     "output_type": "execute_result"
    }
   ],
   "source": [
    "arr2*poverty.column('extreme_poverty_percent_people_below_125_a_day') "
   ]
  },
  {
   "cell_type": "code",
   "execution_count": 103,
   "metadata": {},
   "outputs": [
    {
     "data": {
      "text/html": [
       "<table border=\"1\" class=\"dataframe\">\n",
       "    <thead>\n",
       "        <tr>\n",
       "            <th>geo</th> <th>time</th> <th>extreme_poverty_percent_people_below_125_a_day</th> <th>full name</th> <th>poverty population</th>\n",
       "        </tr>\n",
       "    </thead>\n",
       "    <tbody>\n",
       "        <tr>\n",
       "            <td>alb </td> <td>1996</td> <td>0.2                                           </td> <td>Albania  </td> <td>618407            </td>\n",
       "        </tr>\n",
       "        <tr>\n",
       "            <td>alb </td> <td>2002</td> <td>0.73                                          </td> <td>Albania  </td> <td>2.27987e+06       </td>\n",
       "        </tr>\n",
       "        <tr>\n",
       "            <td>alb </td> <td>2004</td> <td>0.53                                          </td> <td>Albania  </td> <td>1.64499e+06       </td>\n",
       "        </tr>\n",
       "        <tr>\n",
       "            <td>alb </td> <td>2005</td> <td>0.44                                          </td> <td>Albania  </td> <td>1.35616e+06       </td>\n",
       "        </tr>\n",
       "        <tr>\n",
       "            <td>alb </td> <td>2008</td> <td>0.2                                           </td> <td>Albania  </td> <td>593605            </td>\n",
       "        </tr>\n",
       "        <tr>\n",
       "            <td>alb </td> <td>2012</td> <td>0.46                                          </td> <td>Albania  </td> <td>1.32511e+06       </td>\n",
       "        </tr>\n",
       "        <tr>\n",
       "            <td>dza </td> <td>1988</td> <td>7.1                                           </td> <td>Algeria  </td> <td>1.746e+08         </td>\n",
       "        </tr>\n",
       "        <tr>\n",
       "            <td>dza </td> <td>1995</td> <td>6.38                                          </td> <td>Algeria  </td> <td>1.84409e+08       </td>\n",
       "        </tr>\n",
       "        <tr>\n",
       "            <td>ago </td> <td>2000</td> <td>54.31                                         </td> <td>Angola   </td> <td>8.17835e+08       </td>\n",
       "        </tr>\n",
       "        <tr>\n",
       "            <td>ago </td> <td>2009</td> <td>43.37                                         </td> <td>Angola   </td> <td>8.89957e+08       </td>\n",
       "        </tr>\n",
       "    </tbody>\n",
       "</table>\n",
       "<p>... (1089 rows omitted)</p>"
      ],
      "text/plain": [
       "geo  | time | extreme_poverty_percent_people_below_125_a_day | full name | poverty population\n",
       "alb  | 1996 | 0.2                                            | Albania   | 618407\n",
       "alb  | 2002 | 0.73                                           | Albania   | 2.27987e+06\n",
       "alb  | 2004 | 0.53                                           | Albania   | 1.64499e+06\n",
       "alb  | 2005 | 0.44                                           | Albania   | 1.35616e+06\n",
       "alb  | 2008 | 0.2                                            | Albania   | 593605\n",
       "alb  | 2012 | 0.46                                           | Albania   | 1.32511e+06\n",
       "dza  | 1988 | 7.1                                            | Algeria   | 1.746e+08\n",
       "dza  | 1995 | 6.38                                           | Algeria   | 1.84409e+08\n",
       "ago  | 2000 | 54.31                                          | Angola    | 8.17835e+08\n",
       "ago  | 2009 | 43.37                                          | Angola    | 8.89957e+08\n",
       "... (1089 rows omitted)"
      ]
     },
     "execution_count": 103,
     "metadata": {},
     "output_type": "execute_result"
    }
   ],
   "source": [
    "poverty_new=poverty_new.with_column('poverty population',arr2*poverty.column('extreme_poverty_percent_people_below_125_a_day'))\n",
    "poverty_new"
   ]
  },
  {
   "cell_type": "code",
   "execution_count": 104,
   "metadata": {},
   "outputs": [],
   "source": [
    "def poverty_timeline(country):\n",
    "    '''Draw a timeline of people living in extreme poverty in a country.'''\n",
    "    \n",
    "    geo =Table().with_columns('name',poverty_new.where('full name',are.equal_to(country)).column('full name'),\n",
    "                              'time',poverty_new.where('full name',are.equal_to(country)).column('time'),\n",
    "                              'population living in poverty',poverty_new.where('full name',are.equal_to(country)).column('poverty population')\n",
    "                             )\n",
    "    return geo.plot('time','population living in poverty')\n",
    "    # This solution will take multiple lines of code. Use as many as you need\n",
    "  "
   ]
  },
  {
   "cell_type": "markdown",
   "metadata": {
    "deletable": false,
    "editable": false
   },
   "source": [
    "Finally, draw the timelines below to see how the world is changing. You can check your work by comparing your graphs to the ones on [gapminder.org](https://www.gapminder.org/tools/#$state$entities$show$country$/$in@=ind;;;;&marker$axis_y$which=number_of_people_in_poverty&scaleType=linear&spaceRef:null;;;&chart-type=linechart).\n",
    "\n",
    "<!--\n",
    "BEGIN QUESTION\n",
    "name: q2_6\n",
    "manual: true\n",
    "-->\n",
    "<!-- EXPORT TO PDF -->"
   ]
  },
  {
   "cell_type": "code",
   "execution_count": 105,
   "metadata": {
    "export_pdf": true
   },
   "outputs": [
    {
     "data": {
      "image/png": "[encoded data removed]",
      "text/plain": [
       "<Figure size 432x288 with 1 Axes>"
      ]
     },
     "metadata": {},
     "output_type": "display_data"
    },
    {
     "data": {
      "image/png": "[encoded data removed]",
      "text/plain": [
       "<Figure size 432x288 with 1 Axes>"
      ]
     },
     "metadata": {},
     "output_type": "display_data"
    },
    {
     "data": {
      "image/png": "[encoded data removed]",
      "text/plain": [
       "<Figure size 432x288 with 1 Axes>"
      ]
     },
     "metadata": {},
     "output_type": "display_data"
    },
    {
     "data": {
      "image/png": "[encoded data removed]",
      "text/plain": [
       "<Figure size 432x288 with 1 Axes>"
      ]
     },
     "metadata": {},
     "output_type": "display_data"
    }
   ],
   "source": [
    "poverty_timeline('India')\n",
    "poverty_timeline('Nigeria')\n",
    "poverty_timeline('China')\n",
    "poverty_timeline('United States')"
   ]
  },
  {
   "cell_type": "markdown",
   "metadata": {
    "deletable": false,
    "editable": false
   },
   "source": [
    "Although the number of people living in extreme poverty has been increasing in Nigeria and the United States, the massive decreases in China and India have shaped the overall trend that extreme poverty is decreasing worldwide, both in percentage and in absolute number. \n",
    "\n",
    "To learn more, watch [Hans Rosling in a 2015 film](https://www.gapminder.org/videos/dont-panic-end-poverty/) about the UN goal of eradicating extreme poverty from the world. \n",
    "\n",
    "Below, we've also added an interactive dropdown menu for you to visualize `poverty_timeline` graphs for other countries. Note that each dropdown menu selection may take a few seconds to run."
   ]
  },
  {
   "cell_type": "code",
   "execution_count": 106,
   "metadata": {
    "deletable": false,
    "editable": false
   },
   "outputs": [
    {
     "data": {
      "application/vnd.jupyter.widget-view+json": {
       "model_id": "cbd0290e24574da9bb59bf3278278ba4",
       "version_major": 2,
       "version_minor": 0
      },
      "text/plain": [
       "interactive(children=(Dropdown(description='country', options=('alb', 'dza', 'ago', 'arg', 'arm', 'aus', 'aut'…"
      ]
     },
     "metadata": {},
     "output_type": "display_data"
    }
   ],
   "source": [
    "# Just run this cell\n",
    "\n",
    "all_countries = poverty_map.column('name')\n",
    "_ = widgets.interact(poverty_timeline, country=list(all_countries))"
   ]
  },
  {
   "cell_type": "markdown",
   "metadata": {
    "deletable": false,
    "editable": false
   },
   "source": [
    "**You're finished!** Congratulations on mastering data visualization and table manipulation. Time to submit."
   ]
  },
  {
   "cell_type": "markdown",
   "metadata": {},
   "source": [
    "## 3. Submission\n"
   ]
  },
  {
   "cell_type": "markdown",
   "metadata": {
    "collapsed": true
   },
   "source": [
    "Once you're finished, select \"Save and Checkpoint\" in the File menu and then execute the `submit` cell below. The result will contain a link that you can use to check that your assignment has been submitted successfully. If you submit more than once before the deadline, we will only grade your final submission. If you mistakenly submit the wrong one, you can head to [okpy.org](https://okpy.org/) and flag the correct version. To do so, go to the website, click on this assignment, and find the version you would like to have graded. There should be an option to flag that submission for grading!"
   ]
  },
  {
   "cell_type": "code",
   "execution_count": null,
   "metadata": {},
   "outputs": [],
   "source": [
    "_ = ok.submit()"
   ]
  },
  {
   "cell_type": "code",
   "execution_count": 107,
   "metadata": {},
   "outputs": [
    {
     "name": "stdout",
     "output_type": "stream",
     "text": [
      "Running all tests...\n",
      "~~~~~~~~~~~~~~~~~~~~~~~~~~~~~~~~~~~~~~~~~~~~~~~~~~~~~~~~~~~~~~~~~~~~~\n",
      "Running tests\n",
      "\n",
      "---------------------------------------------------------------------\n",
      "Test summary\n",
      "    Passed: 3\n",
      "    Failed: 0\n",
      "[ooooooooook] 100.0% passed\n",
      "\n",
      "~~~~~~~~~~~~~~~~~~~~~~~~~~~~~~~~~~~~~~~~~~~~~~~~~~~~~~~~~~~~~~~~~~~~~\n",
      "Running tests\n",
      "\n",
      "---------------------------------------------------------------------\n",
      "Test summary\n",
      "    Passed: 2\n",
      "    Failed: 0\n",
      "[ooooooooook] 100.0% passed\n",
      "\n",
      "~~~~~~~~~~~~~~~~~~~~~~~~~~~~~~~~~~~~~~~~~~~~~~~~~~~~~~~~~~~~~~~~~~~~~\n",
      "Running tests\n",
      "\n",
      "---------------------------------------------------------------------\n",
      "Test summary\n",
      "    Passed: 1\n",
      "    Failed: 0\n",
      "[ooooooooook] 100.0% passed\n",
      "\n",
      "~~~~~~~~~~~~~~~~~~~~~~~~~~~~~~~~~~~~~~~~~~~~~~~~~~~~~~~~~~~~~~~~~~~~~\n",
      "Running tests\n",
      "\n",
      "---------------------------------------------------------------------\n",
      "Test summary\n",
      "    Passed: 3\n",
      "    Failed: 0\n",
      "[ooooooooook] 100.0% passed\n",
      "\n",
      "~~~~~~~~~~~~~~~~~~~~~~~~~~~~~~~~~~~~~~~~~~~~~~~~~~~~~~~~~~~~~~~~~~~~~\n",
      "Running tests\n",
      "\n",
      "---------------------------------------------------------------------\n",
      "Test summary\n",
      "    Passed: 1\n",
      "    Failed: 0\n",
      "[ooooooooook] 100.0% passed\n",
      "\n",
      "~~~~~~~~~~~~~~~~~~~~~~~~~~~~~~~~~~~~~~~~~~~~~~~~~~~~~~~~~~~~~~~~~~~~~\n",
      "Running tests\n",
      "\n",
      "---------------------------------------------------------------------\n",
      "Test summary\n",
      "    Passed: 3\n",
      "    Failed: 0\n",
      "[ooooooooook] 100.0% passed\n",
      "\n",
      "~~~~~~~~~~~~~~~~~~~~~~~~~~~~~~~~~~~~~~~~~~~~~~~~~~~~~~~~~~~~~~~~~~~~~\n",
      "Running tests\n",
      "\n",
      "---------------------------------------------------------------------\n",
      "Test summary\n",
      "    Passed: 2\n",
      "    Failed: 0\n",
      "[ooooooooook] 100.0% passed\n",
      "\n",
      "~~~~~~~~~~~~~~~~~~~~~~~~~~~~~~~~~~~~~~~~~~~~~~~~~~~~~~~~~~~~~~~~~~~~~\n",
      "Running tests\n",
      "\n",
      "---------------------------------------------------------------------\n",
      "Test summary\n",
      "    Passed: 2\n",
      "    Failed: 0\n",
      "[ooooooooook] 100.0% passed\n",
      "\n",
      "~~~~~~~~~~~~~~~~~~~~~~~~~~~~~~~~~~~~~~~~~~~~~~~~~~~~~~~~~~~~~~~~~~~~~\n",
      "Running tests\n",
      "\n",
      "---------------------------------------------------------------------\n",
      "Test summary\n",
      "    Passed: 2\n",
      "    Failed: 0\n",
      "[ooooooooook] 100.0% passed\n",
      "\n",
      "~~~~~~~~~~~~~~~~~~~~~~~~~~~~~~~~~~~~~~~~~~~~~~~~~~~~~~~~~~~~~~~~~~~~~\n",
      "Running tests\n",
      "\n",
      "---------------------------------------------------------------------\n",
      "Test summary\n",
      "    Passed: 2\n",
      "    Failed: 0\n",
      "[ooooooooook] 100.0% passed\n",
      "\n",
      "~~~~~~~~~~~~~~~~~~~~~~~~~~~~~~~~~~~~~~~~~~~~~~~~~~~~~~~~~~~~~~~~~~~~~\n",
      "Running tests\n",
      "\n",
      "---------------------------------------------------------------------\n",
      "Test summary\n",
      "    Passed: 4\n",
      "    Failed: 0\n",
      "[ooooooooook] 100.0% passed\n",
      "\n",
      "~~~~~~~~~~~~~~~~~~~~~~~~~~~~~~~~~~~~~~~~~~~~~~~~~~~~~~~~~~~~~~~~~~~~~\n",
      "Running tests\n",
      "\n",
      "---------------------------------------------------------------------\n",
      "Test summary\n",
      "    Passed: 2\n",
      "    Failed: 0\n",
      "[ooooooooook] 100.0% passed\n",
      "\n",
      "~~~~~~~~~~~~~~~~~~~~~~~~~~~~~~~~~~~~~~~~~~~~~~~~~~~~~~~~~~~~~~~~~~~~~\n",
      "Running tests\n",
      "\n",
      "---------------------------------------------------------------------\n",
      "Test summary\n",
      "    Passed: 3\n",
      "    Failed: 0\n",
      "[ooooooooook] 100.0% passed\n",
      "\n",
      "~~~~~~~~~~~~~~~~~~~~~~~~~~~~~~~~~~~~~~~~~~~~~~~~~~~~~~~~~~~~~~~~~~~~~\n",
      "Running tests\n",
      "\n",
      "---------------------------------------------------------------------\n",
      "Test summary\n",
      "    Passed: 1\n",
      "    Failed: 0\n",
      "[ooooooooook] 100.0% passed\n",
      "\n",
      "~~~~~~~~~~~~~~~~~~~~~~~~~~~~~~~~~~~~~~~~~~~~~~~~~~~~~~~~~~~~~~~~~~~~~\n",
      "Running tests\n",
      "\n",
      "---------------------------------------------------------------------\n",
      "Test summary\n",
      "    Passed: 2\n",
      "    Failed: 0\n",
      "[ooooooooook] 100.0% passed\n",
      "\n",
      "Finished running all tests.\n"
     ]
    }
   ],
   "source": [
    "# For your convenience, you can run this cell to run all the tests at once!\n",
    "import os\n",
    "print(\"Running all tests...\")\n",
    "_ = [ok.grade(q[:-3]) for q in os.listdir(\"tests\") if q.startswith('q') and len(q) <= 10]\n",
    "print(\"Finished running all tests.\")"
   ]
  },
  {
   "cell_type": "code",
   "execution_count": null,
   "metadata": {},
   "outputs": [],
   "source": []
  }
 ],
 "metadata": {
  "kernelspec": {
   "display_name": "Python 3",
   "language": "python",
   "name": "python3"
  },
  "language_info": {
   "codemirror_mode": {
    "name": "ipython",
    "version": 3
   },
   "file_extension": ".py",
   "mimetype": "text/x-python",
   "name": "python",
   "nbconvert_exporter": "python",
   "pygments_lexer": "ipython3",
   "version": "3.6.8"
  }
 },
 "nbformat": 4,
 "nbformat_minor": 1
}
